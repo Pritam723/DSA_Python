{
 "cells": [
  {
   "cell_type": "code",
   "execution_count": 7,
   "id": "21c523fa",
   "metadata": {},
   "outputs": [
    {
     "data": {
      "text/plain": [
       "2743590365888"
      ]
     },
     "execution_count": 7,
     "metadata": {},
     "output_type": "execute_result"
    }
   ],
   "source": [
    "l1 = [1,2,3,4,5]\n",
    "id(l1)"
   ]
  },
  {
   "cell_type": "code",
   "execution_count": 15,
   "id": "ad2843e2",
   "metadata": {},
   "outputs": [
    {
     "name": "stdout",
     "output_type": "stream",
     "text": [
      "-128\n",
      "32\n",
      "32\n",
      "32\n",
      "32\n"
     ]
    }
   ],
   "source": [
    "for index,value in enumerate(l1) : \n",
    "    print(id(l1[index]) - id(l1[index-1]))"
   ]
  },
  {
   "cell_type": "code",
   "execution_count": null,
   "id": "8e84589b",
   "metadata": {},
   "outputs": [],
   "source": []
  }
 ],
 "metadata": {
  "kernelspec": {
   "display_name": "Python 3 (ipykernel)",
   "language": "python",
   "name": "python3"
  },
  "language_info": {
   "codemirror_mode": {
    "name": "ipython",
    "version": 3
   },
   "file_extension": ".py",
   "mimetype": "text/x-python",
   "name": "python",
   "nbconvert_exporter": "python",
   "pygments_lexer": "ipython3",
   "version": "3.10.5"
  }
 },
 "nbformat": 4,
 "nbformat_minor": 5
}
