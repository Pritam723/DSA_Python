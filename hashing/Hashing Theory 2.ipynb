{
 "cells": [
  {
   "cell_type": "markdown",
   "id": "772dd27b-93ac-4c51-962d-7ad0af4ef564",
   "metadata": {},
   "source": [
    "![Collision](Hashing2.jpg)\n",
    "So, this is the case of collision."
   ]
  },
  {
   "cell_type": "markdown",
   "id": "ca863b0e-3d63-4ec6-b297-e0151240278a",
   "metadata": {},
   "source": [
    "For keys \"march 6\" and \"march 17\" we get the same index in hashtable, i.e. we get same hashvalue."
   ]
  },
  {
   "cell_type": "markdown",
   "id": "b70245d4-ca97-475a-9ee7-d63dff79f6df",
   "metadata": {},
   "source": [
    "1. To solve collision, we can use Chaining. Avg case search is O(1) in hashing. But here if we have a bad hashFunction, then in case of chaianing, Searching may take O(n).\n",
    "2. Now, once we get the hashvalue (Hashtable index), we need to go to the index and search the corresponsing LL associated with in. We need to see, which LL element matches the key = \"march 6\" say. So, here in the LL, we must store both <key,value> pair.\n",
    "![Chaining](Chaining.jpg)"
   ]
  },
  {
   "cell_type": "markdown",
   "id": "54f0fc96-83f4-42fc-9632-1194c0275599",
   "metadata": {},
   "source": [
    "3. Another approach to solve Collision, is to use probing. One popular probing technique is linear probing.\n",
    "4. Let's implement Chaining and Linear probing."
   ]
  },
  {
   "cell_type": "code",
   "execution_count": 30,
   "id": "b86f19e6-26b1-4f78-9f07-3924f038fc60",
   "metadata": {},
   "outputs": [],
   "source": [
    "class HashTable :\n",
    "\n",
    "\n",
    "    # So, here, initially we are not filling the array with all None. We are using empty []. We will store <key,value> pair in this List.\n",
    "    # We can use LL too. We are mimicing the LL with the List actually. But wkt, for LL, self referential pointers are better option.\n",
    "    # We will use a Tuple for (key, value) pair.\n",
    "    def __init__(self) :\n",
    "        self.MAX = 100\n",
    "        self.arr = [[] for i in range(self.MAX)]\n",
    "\n",
    "    # The getHash function will remain same.\n",
    "    def getHash(self, key) :\n",
    "        summ = 0\n",
    "        for ch in key :\n",
    "            summ = summ + ord(ch)\n",
    "        return summ % self.MAX\n",
    "    \n",
    "    # Now, __setitem__() will change. Here if we see [], then it's fine. We can put the value there. But if we see there is already\n",
    "    # an element there, then use probing.\n",
    "\n",
    "    def __getitem__(self, key) :\n",
    "        hashValue = self.getHash(key)\n",
    "        \n",
    "        for item in self.arr[hashValue] :\n",
    "            if item[0] == key : \n",
    "                return item[1]\n",
    "        \n",
    "        return \"Item not there in Hash Table\"\n",
    "        # By default python returns None.\n",
    "    \n",
    "    def __setitem__(self, key, value) :\n",
    "        hashValue = self.getHash(key)\n",
    "        found = False\n",
    "        for idx, item in enumerate(self.arr[hashValue]) :\n",
    "            if(len(item) == 2 and item[0] == key) :\n",
    "                # So, basically the key is already there.\n",
    "                # We just want to change the value.\n",
    "                self.arr[hashValue][idx] = (key,value)\n",
    "                found = True\n",
    "                break\n",
    "        if not found :\n",
    "            self.arr[hashValue].append((key, value))\n",
    "    \n",
    "    def __delitem__(self, key) :\n",
    "        hashValue = self.getHash(key)\n",
    "        for idx, item in enumerate(self.arr[hashValue]) :\n",
    "            if item[0] == key :\n",
    "                # Delete idx from the list self.arr[hashValue]\n",
    "                del self.arr[hashValue][idx]\n",
    "            \n"
   ]
  },
  {
   "cell_type": "code",
   "execution_count": 31,
   "id": "7bc2a9dc-9879-49a0-83c2-993865ec76f8",
   "metadata": {},
   "outputs": [
    {
     "data": {
      "text/plain": [
       "304"
      ]
     },
     "execution_count": 31,
     "metadata": {},
     "output_type": "execute_result"
    }
   ],
   "source": [
    "hTable = HashTable()\n",
    "hTable[\"march 6\"] = 300\n",
    "hTable[\"march 6\"] = 301\n",
    "hTable[\"march 8\"] = 302\n",
    "hTable[\"march 9\"] = 303\n",
    "hTable[\"march 17\"] = 304\n",
    "hTable[\"march 26\"] = 305\n",
    "\n",
    "# See 'march 17' and 'march 26' has same hashValue = 59\n",
    "\n",
    "# hTable.arr[59]\n",
    "\n",
    "hTable['march 17'] \n",
    "\n",
    "# Also print htable.arr i.e. the full hashTable."
   ]
  },
  {
   "cell_type": "code",
   "execution_count": 32,
   "id": "8eb7697b-a122-4ea2-9fb5-a5b1e583520e",
   "metadata": {},
   "outputs": [
    {
     "data": {
      "text/plain": [
       "59"
      ]
     },
     "execution_count": 32,
     "metadata": {},
     "output_type": "execute_result"
    }
   ],
   "source": [
    "hTable.getHash('march 26')"
   ]
  },
  {
   "cell_type": "code",
   "execution_count": 33,
   "id": "bea53c6c-20a9-4c5c-90b5-14ae81e518af",
   "metadata": {},
   "outputs": [
    {
     "data": {
      "text/plain": [
       "[('march 17', 304), ('march 26', 305)]"
      ]
     },
     "execution_count": 33,
     "metadata": {},
     "output_type": "execute_result"
    }
   ],
   "source": [
    "hTable.arr[59]\n",
    "# 59 is the hashvalue."
   ]
  },
  {
   "cell_type": "code",
   "execution_count": 34,
   "id": "f9682f8f-91aa-48e6-af67-27634292b86c",
   "metadata": {},
   "outputs": [
    {
     "data": {
      "text/plain": [
       "[('march 26', 305)]"
      ]
     },
     "execution_count": 34,
     "metadata": {},
     "output_type": "execute_result"
    }
   ],
   "source": [
    "del hTable['march 17']\n",
    "\n",
    "hTable.arr[59]\n"
   ]
  },
  {
   "cell_type": "markdown",
   "id": "988ffce1-bf6b-4546-a689-f1bcce9d86eb",
   "metadata": {},
   "source": [
    "[Exercise, Must do.](https://github.com/codebasics/data-structures-algorithms-python/blob/master/data_structures/4_HashTable_2_Collisions/4_hash_table_exercise.md)"
   ]
  },
  {
   "cell_type": "code",
   "execution_count": null,
   "id": "d3cf3b09-df57-44be-a7ef-b743a81fe527",
   "metadata": {},
   "outputs": [],
   "source": []
  }
 ],
 "metadata": {
  "kernelspec": {
   "display_name": "Python 3 (ipykernel)",
   "language": "python",
   "name": "python3"
  },
  "language_info": {
   "codemirror_mode": {
    "name": "ipython",
    "version": 3
   },
   "file_extension": ".py",
   "mimetype": "text/x-python",
   "name": "python",
   "nbconvert_exporter": "python",
   "pygments_lexer": "ipython3",
   "version": "3.9.6"
  }
 },
 "nbformat": 4,
 "nbformat_minor": 5
}
