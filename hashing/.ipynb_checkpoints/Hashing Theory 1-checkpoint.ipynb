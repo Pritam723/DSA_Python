{
 "cells": [
  {
   "cell_type": "markdown",
   "id": "ab010724-5c9c-4220-9706-ca6e49224984",
   "metadata": {},
   "source": [
    "1. Hash tables allow us to search something in O(1) time.\n",
    "2. in python, Dictionaries implement Hastable. So Hashtable is the underlying DS here.\n",
    "3. Search, Insertion, Deletion is O(1) on average."
   ]
  },
  {
   "cell_type": "markdown",
   "id": "97eb1cc3-3e57-4ff7-8411-e7f136646aad",
   "metadata": {},
   "source": [
    "![Hashtable](Hashing.jpg)"
   ]
  },
  {
   "cell_type": "markdown",
   "id": "50dd4f6c-55b9-444a-b9b1-84a16ce10767",
   "metadata": {},
   "source": [
    "1. So, a hashtable is nothing but a memory space. After hashing we can do stock_prices['march 6'] in O(1) time.\n",
    "2. See, actually the \"Hash Function\" let's us get the number 9 from the string 'march 6'. There are different ways to implement Hash Function."
   ]
  },
  {
   "cell_type": "markdown",
   "id": "a6987413-2451-46c9-a9b7-7067c986d19c",
   "metadata": {},
   "source": [
    "Lets design out Hash Function here assuming Hash Table Size = 100. So, we can do sum of ASCII Values of the characters mod 100."
   ]
  },
  {
   "cell_type": "code",
   "execution_count": 3,
   "id": "a6f4589e-1904-4d42-bc1d-17c435586df4",
   "metadata": {},
   "outputs": [
    {
     "data": {
      "text/plain": [
       "9"
      ]
     },
     "execution_count": 3,
     "metadata": {},
     "output_type": "execute_result"
    }
   ],
   "source": [
    "def hashFunction(key) :\n",
    "    summ = 0\n",
    "    for ch in key :\n",
    "        summ = summ + ord(ch)\n",
    "    return summ % 100\n",
    "\n",
    "hashFunction('march 6')"
   ]
  },
  {
   "cell_type": "markdown",
   "id": "959d1a4b-7848-41ad-81e1-9c24dc9759b5",
   "metadata": {},
   "source": [
    "###### So, rather than implementing a standalone function, let's get the class."
   ]
  },
  {
   "cell_type": "code",
   "execution_count": 23,
   "id": "12ca3ced-e552-4a33-9d75-78ae93af6493",
   "metadata": {},
   "outputs": [],
   "source": [
    "class HashTable :\n",
    "    def __init__(self) :\n",
    "        self.MAX = 100\n",
    "        self.arr = [None for i in range(self.MAX)]\n",
    "        \n",
    "    def getHash(self, key) :\n",
    "        summ = 0\n",
    "        for ch in key :\n",
    "            summ = summ + ord(ch)\n",
    "        return summ % 100\n",
    "    \n",
    "    def add(self, key, value) :\n",
    "        hashValue = self.getHash(key)\n",
    "        self.arr[hashValue] = value\n",
    "        \n",
    "    def get(self, key) :\n",
    "        hashValue = self.getHash(key)\n",
    "        if self.arr[hashValue] is None :\n",
    "            print(\"Item not there in Hash Table\")\n",
    "        else :\n",
    "            return self.arr[hashValue]\n",
    "        \n",
    "    def __setitem__(self, key, value) :\n",
    "        hashValue = self.getHash(key)\n",
    "        self.arr[hashValue] = value\n",
    "        \n",
    "    def __getitem__(self, key) :\n",
    "        hashValue = self.getHash(key)\n",
    "        if self.arr[hashValue] is None :\n",
    "            print(\"Item not there in Hash Table\")\n",
    "        else :\n",
    "            return self.arr[hashValue]\n",
    "        \n",
    "    def __delitem__(self, key) :\n",
    "        hashValue = self.getHash(key)\n",
    "        self.arr[hashValue] = None"
   ]
  },
  {
   "cell_type": "code",
   "execution_count": 24,
   "id": "0567ad64-cbca-430f-be9f-fb094b418149",
   "metadata": {},
   "outputs": [],
   "source": [
    "myHashTable = HashTable()\n",
    "myHashTable.add('march 6', 320.55)"
   ]
  },
  {
   "cell_type": "code",
   "execution_count": 25,
   "id": "7affd02d-4510-4ffd-b752-0ebc880a626b",
   "metadata": {},
   "outputs": [
    {
     "data": {
      "text/plain": [
       "320.55"
      ]
     },
     "execution_count": 25,
     "metadata": {},
     "output_type": "execute_result"
    }
   ],
   "source": [
    "myHashTable.get('march 6')"
   ]
  },
  {
   "cell_type": "markdown",
   "id": "5d58b2e8-cb3e-4757-8257-dea297718b14",
   "metadata": {},
   "source": [
    "###### We can use just the arr[key] notation too. Name the functions _ _setitem_ _(), _ _getitem_ _() See docs. https://docs.python.org/3/library/operator.html"
   ]
  },
  {
   "cell_type": "code",
   "execution_count": 26,
   "id": "aa2fa1cd-52b9-4f1d-9619-06088b17cce9",
   "metadata": {},
   "outputs": [],
   "source": [
    "myHashTable['march 22'] = 332.56\n"
   ]
  },
  {
   "cell_type": "code",
   "execution_count": 27,
   "id": "8a7c77c4-adb0-4d9f-a6f6-461913469558",
   "metadata": {},
   "outputs": [
    {
     "data": {
      "text/plain": [
       "332.56"
      ]
     },
     "execution_count": 27,
     "metadata": {},
     "output_type": "execute_result"
    }
   ],
   "source": [
    "# myHashTable.arr\n",
    "myHashTable['march 22']"
   ]
  },
  {
   "cell_type": "code",
   "execution_count": 28,
   "id": "fcab07a2-502d-4bb5-8ee2-4ad2c255da02",
   "metadata": {},
   "outputs": [
    {
     "name": "stdout",
     "output_type": "stream",
     "text": [
      "Item not there in Hash Table\n"
     ]
    }
   ],
   "source": [
    "del myHashTable['march 22']\n",
    "myHashTable['march 22']"
   ]
  },
  {
   "cell_type": "markdown",
   "id": "dc5c76b3-3448-4ec7-9f19-9fa01cc297be",
   "metadata": {},
   "source": [
    "Ok, great. But this is not handling collisions. Let's see how we do that, in the next Theory."
   ]
  },
  {
   "cell_type": "code",
   "execution_count": null,
   "id": "ba4f51dd-30ba-47db-8dcb-0ffdc5ba8595",
   "metadata": {},
   "outputs": [],
   "source": []
  }
 ],
 "metadata": {
  "kernelspec": {
   "display_name": "Python 3 (ipykernel)",
   "language": "python",
   "name": "python3"
  },
  "language_info": {
   "codemirror_mode": {
    "name": "ipython",
    "version": 3
   },
   "file_extension": ".py",
   "mimetype": "text/x-python",
   "name": "python",
   "nbconvert_exporter": "python",
   "pygments_lexer": "ipython3",
   "version": "3.9.6"
  }
 },
 "nbformat": 4,
 "nbformat_minor": 5
}
