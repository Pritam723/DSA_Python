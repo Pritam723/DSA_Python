{
 "cells": [
  {
   "cell_type": "markdown",
   "id": "342b0a47-512e-4f43-bce5-34143a5b5345",
   "metadata": {
    "tags": []
   },
   "source": [
    "###### Insertion sort is like sorting Cards. Say We have sorted card in our left hand always. And we are getting new card at each turn. So check where the new card fits in left hand."
   ]
  },
  {
   "cell_type": "markdown",
   "id": "1bad496b-ae9a-4c74-84ff-bf63987abedc",
   "metadata": {
    "tags": []
   },
   "source": [
    "###### The idea is to use a variable at each turn which start from last index of Left Hand and Goes till 0th index or to the index where we get item at LH < Key.\n",
    "###### The key comes from right side.\n",
    "###### So, actually we are traversing the array Left to Right, we are making the Left Side Sorted(LH) and the new key comes from Right."
   ]
  },
  {
   "cell_type": "code",
   "execution_count": 11,
   "id": "fd1c8145-766a-4267-991d-c0abef486d05",
   "metadata": {},
   "outputs": [],
   "source": [
    "def insertion_sort(arr) :\n",
    "    j = 1\n",
    "    while j < len(arr) :\n",
    "        print(j)\n",
    "        i = j - 1 # So, i is the last index of the Left Hand (i.e. Sorted part)\n",
    "        while(i >= 0) :\n",
    "            print(i , end = \"|\")\n",
    "            i = i - 1\n",
    "        print(\"\\n\")\n",
    "        j = j + 1"
   ]
  },
  {
   "cell_type": "code",
   "execution_count": 12,
   "id": "c1456e08-f52a-486a-a1d1-007f742b21e6",
   "metadata": {},
   "outputs": [
    {
     "name": "stdout",
     "output_type": "stream",
     "text": [
      "1\n",
      "0|\n",
      "\n",
      "2\n",
      "1|0|\n",
      "\n",
      "3\n",
      "2|1|0|\n",
      "\n",
      "4\n",
      "3|2|1|0|\n",
      "\n",
      "5\n",
      "4|3|2|1|0|\n",
      "\n",
      "6\n",
      "5|4|3|2|1|0|\n",
      "\n",
      "7\n",
      "6|5|4|3|2|1|0|\n",
      "\n",
      "8\n",
      "7|6|5|4|3|2|1|0|\n",
      "\n"
     ]
    }
   ],
   "source": [
    "arr = [9,6,5,0,8,2,7,1,3]\n",
    "insertion_sort(arr)"
   ]
  },
  {
   "cell_type": "markdown",
   "id": "d99983bd-140d-4504-8eb1-2ccd02263509",
   "metadata": {},
   "source": [
    "###### So, understand this, when j = 4 say, surely, arr[0] to arr[3] is sorted. So i start from 3 and comes down to 0.\n",
    "###### Now here we don't need to go till i = 0 always. See, key = arr[j] at any stage. So, in LH whenever I find an item < key, I am sure that my key will be right to it.\n",
    "###### Infact we can use item <= key. And along the way I need to right shift the others too, which are > key anyways.\n",
    "###### So, we should check till i >= 0, and till we have items > key. Any one violates, we stop the loop"
   ]
  },
  {
   "cell_type": "code",
   "execution_count": 16,
   "id": "6b69e477-191f-449d-aa54-0f8198adf5c9",
   "metadata": {},
   "outputs": [],
   "source": [
    "def insertion_sort(arr) :\n",
    "    j = 1\n",
    "    while j < len(arr) :\n",
    "        \n",
    "        key = arr[j] # new key in right hand.\n",
    "        \n",
    "        i = j - 1 # So, i is the last index of the Left Hand (i.e. Sorted part)\n",
    "        while(i >= 0 and arr[i] > key) :\n",
    "            \n",
    "            arr[i+1] = arr[i]\n",
    "            \n",
    "            i = i - 1\n",
    "            \n",
    "        arr[i+1] = key\n",
    "        \n",
    "        print(f'At iteration {j}, array is {arr}')\n",
    "        j = j + 1\n"
   ]
  },
  {
   "cell_type": "code",
   "execution_count": 17,
   "id": "41d7da4a-dcd5-43c4-bd11-4e3772124814",
   "metadata": {},
   "outputs": [
    {
     "name": "stdout",
     "output_type": "stream",
     "text": [
      "At iteration 1, array is [6, 9, 5, 0, 8, 2, 7, 1, 3]\n",
      "At iteration 2, array is [5, 6, 9, 0, 8, 2, 7, 1, 3]\n",
      "At iteration 3, array is [0, 5, 6, 9, 8, 2, 7, 1, 3]\n",
      "At iteration 4, array is [0, 5, 6, 8, 9, 2, 7, 1, 3]\n",
      "At iteration 5, array is [0, 2, 5, 6, 8, 9, 7, 1, 3]\n",
      "At iteration 6, array is [0, 2, 5, 6, 7, 8, 9, 1, 3]\n",
      "At iteration 7, array is [0, 1, 2, 5, 6, 7, 8, 9, 3]\n",
      "At iteration 8, array is [0, 1, 2, 3, 5, 6, 7, 8, 9]\n"
     ]
    }
   ],
   "source": [
    "arr = arr = [9,6,5,0,8,2,7,1,3]\n",
    "insertion_sort(arr)"
   ]
  },
  {
   "cell_type": "markdown",
   "id": "c7b2df92-58e0-4ae3-bc39-abff3421dcf5",
   "metadata": {},
   "source": [
    "T(n) = O(n^2) because in worst case n^2 comparison and movements. , S(n) = O(1)\n",
    "Even if we use binary search in LH to do the searching, still for movements it will take O(n^2)"
   ]
  },
  {
   "cell_type": "code",
   "execution_count": null,
   "id": "0c521a77-d3ef-435d-924a-702eafe68436",
   "metadata": {},
   "outputs": [],
   "source": []
  }
 ],
 "metadata": {
  "kernelspec": {
   "display_name": "Python 3 (ipykernel)",
   "language": "python",
   "name": "python3"
  },
  "language_info": {
   "codemirror_mode": {
    "name": "ipython",
    "version": 3
   },
   "file_extension": ".py",
   "mimetype": "text/x-python",
   "name": "python",
   "nbconvert_exporter": "python",
   "pygments_lexer": "ipython3",
   "version": "3.9.6"
  }
 },
 "nbformat": 4,
 "nbformat_minor": 5
}
