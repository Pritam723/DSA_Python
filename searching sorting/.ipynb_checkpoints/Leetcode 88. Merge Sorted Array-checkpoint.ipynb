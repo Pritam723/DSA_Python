{
 "cells": [
  {
   "cell_type": "markdown",
   "id": "833485f5-57c2-43a6-a37d-0ab88a293664",
   "metadata": {},
   "source": [
    "[Leetcode 88. Merge Sorted Array](https://leetcode.com/problems/merge-sorted-array/)"
   ]
  },
  {
   "cell_type": "code",
   "execution_count": 19,
   "id": "c8fc516c-449d-46c6-ad99-f297cfd03e37",
   "metadata": {},
   "outputs": [],
   "source": [
    "def merge(nums1, m, nums2, n):\n",
    "    \n",
    "    # We have to put items in nums1 only. So that's a problem now.\n",
    "    # Because if I replace a item in nums1, then i will lose it. So, one thing we can do is,\n",
    "    # we can use the space of nums2. See, nums2 has length = 3 say. So, not more than 3 elements\n",
    "    # can replace nums1's elements. Also keep in mind that, both the arrays are sorted.\n",
    "    # So when we see nums1[i] <= nums2[j], just do i++\n",
    "    # And when you see, \n",
    "    \n",
    "    i = 0\n",
    "    j = 0\n",
    "    k = 0\n",
    "    auxiliary_space = [0] * (m+n)\n",
    "    \n",
    "    while(i < m and j < n) :\n",
    "        if(nums1[i] <= nums2[j]) :\n",
    "            auxiliary_space[k] = nums1[i]\n",
    "            i = i + 1\n",
    "        else :\n",
    "            auxiliary_space[k] = nums2[j]\n",
    "            j = j + 1\n",
    "            \n",
    "        k = k + 1\n",
    "    \n",
    "    # Now, if any one of nums1 or nums2 is exhausted, copy the remaining element of other array to the List\n",
    "    \n",
    "    while(i < m) :\n",
    "        auxiliary_space[k] = nums1[i]\n",
    "        i = i + 1\n",
    "        k = k + 1\n",
    "\n",
    "    while(j < n) :\n",
    "        auxiliary_space[k] = nums2[j]\n",
    "        j = j + 1\n",
    "        k = k + 1\n",
    "    \n",
    "    \n",
    "    for index, item in enumerate(auxiliary_space) :\n",
    "        nums1[index] = item\n",
    "    "
   ]
  },
  {
   "cell_type": "code",
   "execution_count": 20,
   "id": "2a2e0c1e-6522-4f52-b3fb-88d552b7fa7a",
   "metadata": {},
   "outputs": [],
   "source": [
    "nums1 = [0]\n",
    "m = 0\n",
    "nums2 = [1]\n",
    "n = 1\n",
    "\n",
    "merge(nums1, m, nums2, n)"
   ]
  },
  {
   "cell_type": "code",
   "execution_count": 18,
   "id": "a7405ab2-20af-4311-889a-c5c1421de869",
   "metadata": {},
   "outputs": [
    {
     "data": {
      "text/plain": [
       "[1]"
      ]
     },
     "execution_count": 18,
     "metadata": {},
     "output_type": "execute_result"
    }
   ],
   "source": [
    "nums1"
   ]
  },
  {
   "cell_type": "markdown",
   "id": "c2556b0c-30be-43e1-831f-34e163ca9227",
   "metadata": {},
   "source": [
    "###### Check edge cases like one empty array."
   ]
  },
  {
   "cell_type": "markdown",
   "id": "b99021ff-1e14-44c5-8d75-1340d6ac6c33",
   "metadata": {},
   "source": [
    "###### But actually the problem does not ends here. I am not allowed to use the auxiliary space. So think!!"
   ]
  },
  {
   "cell_type": "code",
   "execution_count": null,
   "id": "2d690d0f-a50e-4e15-81f4-48ef7bf639d7",
   "metadata": {},
   "outputs": [],
   "source": []
  }
 ],
 "metadata": {
  "kernelspec": {
   "display_name": "Python 3 (ipykernel)",
   "language": "python",
   "name": "python3"
  },
  "language_info": {
   "codemirror_mode": {
    "name": "ipython",
    "version": 3
   },
   "file_extension": ".py",
   "mimetype": "text/x-python",
   "name": "python",
   "nbconvert_exporter": "python",
   "pygments_lexer": "ipython3",
   "version": "3.9.6"
  }
 },
 "nbformat": 4,
 "nbformat_minor": 5
}
