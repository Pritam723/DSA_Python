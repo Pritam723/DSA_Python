{
 "cells": [
  {
   "cell_type": "markdown",
   "id": "9eb0f898-b1d2-4f63-a095-71abbf57c111",
   "metadata": {},
   "source": [
    "Heart of Quick Sort is something called as Partition().\n",
    "Partition(Arr, p, r) will take the array, first and last index. It will choose a pivot element say last element. And it will make sure, that after partition() runs on Arr, the pivot has the exact position as it would have had if the array was sorted.\n",
    "Example : \n",
    "Partition([1,2,4,3]) will make it [a,b,3,c] # a,b,c will be known after we run Partition(). Also it will make sure that Left of 3 we have all elements <= 3, and right of it we have elements > 3.\n",
    "Finally partition will return the final position of 3, i.e. position 2 here."
   ]
  },
  {
   "cell_type": "code",
   "execution_count": 2,
   "id": "04b81ff4-f4fb-40a3-bb32-d72a7bb58d87",
   "metadata": {},
   "outputs": [],
   "source": [
    "def partition(arr, p, r) :\n",
    "    pivot = arr[r]\n",
    "    \n",
    "    # Now, start from j = p till r-1.\n",
    "    # Use another pointer i = p-1 initially.\n",
    "    # Whenever you find some arr[j] <= pivot,\n",
    "    # Move that to left side and do i++\n",
    "    # So actually i always point to the index, next from\n",
    "    # which all elements are > pivot.\n",
    "    j = p\n",
    "    i = p-1\n",
    "    while(j < r) :\n",
    "        \n",
    "        if(arr[j] <= pivot) :\n",
    "            i = i + 1          # At this point exactly, i is pointing to an element which is > pivot. So, we swap it with arr[j], which is <= pivot\n",
    "            arr[i], arr[j] = arr[j], arr[i]\n",
    "            \n",
    "        j = j + 1\n",
    "    # After while loop, i will simillarly point to an index, next from which all elements are > pivot.\n",
    "    # For example here, at last the array will be [6,5,0,2,8,9,4,7], i = 4 j = 6. pivot = 7 So, finally swap arr[r] with arr[i+1] and return i+1\n",
    "    arr[i+1], arr[r] = arr[r], arr[i+1]\n",
    "    return i+1"
   ]
  },
  {
   "cell_type": "code",
   "execution_count": 5,
   "id": "2bade428-2818-4b32-ad93-e6b52e281f3e",
   "metadata": {},
   "outputs": [
    {
     "name": "stdout",
     "output_type": "stream",
     "text": [
      "5\n",
      "[6, 5, 0, 2, 4, 7, 8, 9]\n"
     ]
    }
   ],
   "source": [
    "arr = [9,6,5,0,8,2,4,7]\n",
    "print(partition(arr,0,7))\n",
    "print(arr)"
   ]
  },
  {
   "cell_type": "markdown",
   "id": "12926b33-9b25-45c9-87ac-8df34545a822",
   "metadata": {},
   "source": [
    "###### So, we can see how the element 7 is in correct postition. (As we expect after sorting). So if we do this repeatedly in the 2 parts divided by 7's position & so on, then we will have a sorted array."
   ]
  },
  {
   "cell_type": "code",
   "execution_count": 6,
   "id": "e64e1fb0-0ea6-4c5d-9907-412da73b6e7c",
   "metadata": {},
   "outputs": [],
   "source": [
    "def Quick_Sort(arr, p, r) :\n",
    "    if(p < r) : # No need for p<=r coz single elemnt is sorted already.\n",
    "        q = partition(arr, p, r)\n",
    "        # Now call QS() on 2 parts.\n",
    "        Quick_Sort(arr, p , q-1)\n",
    "        Quick_Sort(arr, q+1 , r)   "
   ]
  },
  {
   "cell_type": "code",
   "execution_count": 8,
   "id": "a66827bf-e665-4e1c-8081-e18ef029c059",
   "metadata": {},
   "outputs": [
    {
     "data": {
      "text/plain": [
       "[1, 2, 3, 4, 5, 6, 7]"
      ]
     },
     "execution_count": 8,
     "metadata": {},
     "output_type": "execute_result"
    }
   ],
   "source": [
    "new_array = [5,7,6,1,3,2,4]\n",
    "Quick_Sort(new_array, 0, 6)\n",
    "new_array"
   ]
  },
  {
   "cell_type": "code",
   "execution_count": null,
   "id": "24dcd7c4-1647-4c39-bfdd-1050c0f464b5",
   "metadata": {},
   "outputs": [],
   "source": []
  }
 ],
 "metadata": {
  "kernelspec": {
   "display_name": "Python 3 (ipykernel)",
   "language": "python",
   "name": "python3"
  },
  "language_info": {
   "codemirror_mode": {
    "name": "ipython",
    "version": 3
   },
   "file_extension": ".py",
   "mimetype": "text/x-python",
   "name": "python",
   "nbconvert_exporter": "python",
   "pygments_lexer": "ipython3",
   "version": "3.9.6"
  }
 },
 "nbformat": 4,
 "nbformat_minor": 5
}
