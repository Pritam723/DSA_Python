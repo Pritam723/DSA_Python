{
 "cells": [
  {
   "cell_type": "markdown",
   "id": "506aa47c-d3ff-4288-98c3-34eecaed0a5a",
   "metadata": {},
   "source": [
    "###### Here at each iteration we keep on making the first element the minimum element."
   ]
  },
  {
   "cell_type": "code",
   "execution_count": 11,
   "id": "96bd1bb2-1f82-4c8a-a4c7-79dd80cf4a15",
   "metadata": {},
   "outputs": [],
   "source": [
    "def selection_sort(arr) :\n",
    "    length = len(arr)\n",
    "    \n",
    "    j = 0\n",
    "    while(j < length) :\n",
    "        print(f'j = {j}')\n",
    "        \n",
    "        key = arr[j]\n",
    "        # At every iteration fix the first element with minimum.\n",
    "        # So, at each stage compare with the current key, i.e. arr[j]\n",
    "        \n",
    "        i = j + 1\n",
    "        while(i < length) :\n",
    "            \n",
    "            if(arr[j] > arr[i]) :\n",
    "                arr[j], arr[i] = arr[i], arr[j]\n",
    "            \n",
    "            print(f'i = {i}', end = \"|\")\n",
    "            i = i + 1\n",
    "        print(\"\\n\")\n",
    "        \n",
    "        print(f'Array after iteration {j} is {arr}')\n",
    "        \n",
    "        print(\"\\n\")\n",
    "        j = j + 1\n",
    "        \n",
    "    "
   ]
  },
  {
   "cell_type": "code",
   "execution_count": 12,
   "id": "0f814262-839a-49d5-8607-d47375d30365",
   "metadata": {},
   "outputs": [
    {
     "name": "stdout",
     "output_type": "stream",
     "text": [
      "j = 0\n",
      "i = 1|i = 2|i = 3|i = 4|i = 5|i = 6|\n",
      "\n",
      "Array after iteration 0 is [10, 30, 50, 70, 20, 80, 78]\n",
      "\n",
      "\n",
      "j = 1\n",
      "i = 2|i = 3|i = 4|i = 5|i = 6|\n",
      "\n",
      "Array after iteration 1 is [10, 20, 50, 70, 30, 80, 78]\n",
      "\n",
      "\n",
      "j = 2\n",
      "i = 3|i = 4|i = 5|i = 6|\n",
      "\n",
      "Array after iteration 2 is [10, 20, 30, 70, 50, 80, 78]\n",
      "\n",
      "\n",
      "j = 3\n",
      "i = 4|i = 5|i = 6|\n",
      "\n",
      "Array after iteration 3 is [10, 20, 30, 50, 70, 80, 78]\n",
      "\n",
      "\n",
      "j = 4\n",
      "i = 5|i = 6|\n",
      "\n",
      "Array after iteration 4 is [10, 20, 30, 50, 70, 80, 78]\n",
      "\n",
      "\n",
      "j = 5\n",
      "i = 6|\n",
      "\n",
      "Array after iteration 5 is [10, 20, 30, 50, 70, 78, 80]\n",
      "\n",
      "\n",
      "j = 6\n",
      "\n",
      "\n",
      "Array after iteration 6 is [10, 20, 30, 50, 70, 78, 80]\n",
      "\n",
      "\n"
     ]
    }
   ],
   "source": [
    "arr = [30,20,50,70,10,80,78]\n",
    "selection_sort(arr)"
   ]
  },
  {
   "cell_type": "markdown",
   "id": "bb3f2a1e-5e05-484b-b9af-b908e5ea9130",
   "metadata": {},
   "source": [
    "###### If main memory write operations are costly, then number of swaps can be minimized using a 'min' variable. keep track of the 'min' at every stage, & finally just do 1 swap. So total O(n) swaps only."
   ]
  },
  {
   "cell_type": "code",
   "execution_count": null,
   "id": "4fee8932-fd0a-4e4a-b38f-c1c3231ac2f9",
   "metadata": {},
   "outputs": [],
   "source": []
  }
 ],
 "metadata": {
  "kernelspec": {
   "display_name": "Python 3 (ipykernel)",
   "language": "python",
   "name": "python3"
  },
  "language_info": {
   "codemirror_mode": {
    "name": "ipython",
    "version": 3
   },
   "file_extension": ".py",
   "mimetype": "text/x-python",
   "name": "python",
   "nbconvert_exporter": "python",
   "pygments_lexer": "ipython3",
   "version": "3.9.6"
  }
 },
 "nbformat": 4,
 "nbformat_minor": 5
}
