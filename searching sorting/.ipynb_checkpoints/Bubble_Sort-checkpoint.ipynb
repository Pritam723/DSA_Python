{
 "cells": [
  {
   "cell_type": "markdown",
   "id": "23f2ec47-9350-4ab5-bf12-e26e3c05692e",
   "metadata": {},
   "source": [
    "##### The idea is to push the maximum to the right at each iteration.\n",
    "##### And here we compare pair wise"
   ]
  },
  {
   "cell_type": "code",
   "execution_count": 35,
   "id": "baf5a197-ff66-4783-a851-1be913b8c8e1",
   "metadata": {
    "tags": []
   },
   "outputs": [],
   "source": [
    "def Bubble_Sort(arr) :\n",
    "    length = len(arr)\n",
    "    j = length\n",
    "    \n",
    "    while(j > 0) :\n",
    "        print(j)\n",
    "        i = 1\n",
    "        while(i < j) :\n",
    "            # Now after each iteration, last index is fixed with correct element.\n",
    "\n",
    "            \n",
    "            print((i-1,i), end = \"|\")\n",
    "                        \n",
    "            if(arr[i - 1] > arr[i]) :\n",
    "                arr[i-1], arr[i] = arr[i], arr[i-1]\n",
    "                \n",
    "            i = i + 1\n",
    "        \n",
    "        print(\"\\n\")\n",
    "    \n",
    "        print(f'Array after iteration {length - j} is {arr}')\n",
    "        print(\"\\n\")\n",
    "        j = j - 1\n",
    "    "
   ]
  },
  {
   "cell_type": "code",
   "execution_count": 36,
   "id": "daabce22-038b-444f-9099-232857713b6f",
   "metadata": {},
   "outputs": [
    {
     "name": "stdout",
     "output_type": "stream",
     "text": [
      "7\n",
      "(0, 1)|(1, 2)|(2, 3)|(3, 4)|(4, 5)|(5, 6)|\n",
      "\n",
      "Array after iteration 0 is [20, 30, 50, 10, 70, 78, 80]\n",
      "\n",
      "\n",
      "6\n",
      "(0, 1)|(1, 2)|(2, 3)|(3, 4)|(4, 5)|\n",
      "\n",
      "Array after iteration 1 is [20, 30, 10, 50, 70, 78, 80]\n",
      "\n",
      "\n",
      "5\n",
      "(0, 1)|(1, 2)|(2, 3)|(3, 4)|\n",
      "\n",
      "Array after iteration 2 is [20, 10, 30, 50, 70, 78, 80]\n",
      "\n",
      "\n",
      "4\n",
      "(0, 1)|(1, 2)|(2, 3)|\n",
      "\n",
      "Array after iteration 3 is [10, 20, 30, 50, 70, 78, 80]\n",
      "\n",
      "\n",
      "3\n",
      "(0, 1)|(1, 2)|\n",
      "\n",
      "Array after iteration 4 is [10, 20, 30, 50, 70, 78, 80]\n",
      "\n",
      "\n",
      "2\n",
      "(0, 1)|\n",
      "\n",
      "Array after iteration 5 is [10, 20, 30, 50, 70, 78, 80]\n",
      "\n",
      "\n",
      "1\n",
      "\n",
      "\n",
      "Array after iteration 6 is [10, 20, 30, 50, 70, 78, 80]\n",
      "\n",
      "\n"
     ]
    }
   ],
   "source": [
    "arr = [30,20,50,70,10,80,78]\n",
    "Bubble_Sort(arr)"
   ]
  },
  {
   "cell_type": "markdown",
   "id": "b3eab3a4-bc9c-4f68-8a7b-518b0a4395d1",
   "metadata": {},
   "source": [
    "###### If we keep track of swaps happening. In case of no swap in last stage, we do not need to do iteration anymore. So using swap flag, best case can be achieved in O(n) when the array is already sorted."
   ]
  },
  {
   "cell_type": "code",
   "execution_count": null,
   "id": "18c9f20c-3838-4485-82b5-33902b7b16e9",
   "metadata": {},
   "outputs": [],
   "source": []
  }
 ],
 "metadata": {
  "kernelspec": {
   "display_name": "Python 3 (ipykernel)",
   "language": "python",
   "name": "python3"
  },
  "language_info": {
   "codemirror_mode": {
    "name": "ipython",
    "version": 3
   },
   "file_extension": ".py",
   "mimetype": "text/x-python",
   "name": "python",
   "nbconvert_exporter": "python",
   "pygments_lexer": "ipython3",
   "version": "3.9.6"
  }
 },
 "nbformat": 4,
 "nbformat_minor": 5
}
