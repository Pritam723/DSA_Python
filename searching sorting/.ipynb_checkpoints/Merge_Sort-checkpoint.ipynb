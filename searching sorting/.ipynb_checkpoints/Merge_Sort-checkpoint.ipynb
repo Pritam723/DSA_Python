{
 "cells": [
  {
   "cell_type": "markdown",
   "id": "61af749e-ecec-44ab-b0a8-e3f33b5224e7",
   "metadata": {},
   "source": [
    "###### Heart of Merge_Sort() is something called as Merge()\n",
    "Merge(arr,p,q,r) means arr[p] to arr[q] and arr[q+1] to arr[r] is sorted.\n",
    "Merge() will make 2 new Arrays with them say L[] and R[] , and will compare items of L[] and R[] one by one.\n",
    "The smaller element will be put on to arr[] again and accordingly the whole thing will be sorted in O(n)"
   ]
  },
  {
   "cell_type": "code",
   "execution_count": 1,
   "id": "e059bb64-9975-4cf8-95d2-271d82a0e5f9",
   "metadata": {},
   "outputs": [],
   "source": [
    "def Merge(arr, p, q, r) :\n",
    "    L = arr[p : q+1]   #Since arr[p] to arr[q] is sorted.\n",
    "    R = arr[q+1 : r+1] #Since arr[q+1] to arr[r] is sorted.\n",
    "    \n",
    "    n1 = q-p+1 # Example index 2 to 5 is sorted\n",
    "    n2 = r - (q+1) + 1\n",
    "    # n = n1 + n2\n",
    "    \n",
    "    i = 0 # to iterate L\n",
    "    j = 0 # to iterate R\n",
    "    k = p # to iterate arr ( Don't use k = 0, it must be generalized)\n",
    "    # So, actually we will fill arr[p] to arr[r]\n",
    "    \n",
    "    while(i < n1 and j < n2) :\n",
    "        \n",
    "        if(L[i] <= R[j]) :\n",
    "            arr[k] = L[i]\n",
    "            i = i + 1\n",
    "        else :\n",
    "            arr[k] = R[j]\n",
    "            j = j + 1\n",
    "            \n",
    "        k = k + 1\n",
    "        \n",
    "    while(i < n1) :   # That is, L[] is not entirely copied yet.\n",
    "        print(\"Copying remaining L\")\n",
    "        arr[k] = L[i]\n",
    "        i = i + 1\n",
    "        k = k + 1\n",
    "\n",
    "    while(j < n2) :\n",
    "        print(\"Copying remaining R\")\n",
    "        arr[k] = R[j]\n",
    "        j = j + 1\n",
    "        k = k + 1\n",
    "    \n",
    "    #print(arr)\n",
    "    #return arr\n",
    "    \n",
    "    #print(n1)\n",
    "    #print(n2)\n",
    "    \n",
    "    #print(L)\n",
    "    #print(R)  "
   ]
  },
  {
   "cell_type": "code",
   "execution_count": 2,
   "id": "86495ec0-df9e-432f-9008-827e4a25f530",
   "metadata": {},
   "outputs": [
    {
     "name": "stdout",
     "output_type": "stream",
     "text": [
      "Copying remaining R\n",
      "Copying remaining R\n",
      "Copying remaining R\n",
      "Copying remaining R\n",
      "Copying remaining R\n",
      "Copying remaining R\n",
      "Copying remaining R\n"
     ]
    }
   ],
   "source": [
    "arr = [7,22,33,39,40,50,70,80,88,89]\n",
    "Merge(arr, 0, 2, 9)"
   ]
  },
  {
   "cell_type": "code",
   "execution_count": 3,
   "id": "a4210feb-d8a2-4858-80ce-8f62305174f9",
   "metadata": {},
   "outputs": [],
   "source": [
    "def Merge_Sort(arr, p, r) :\n",
    "    if(p < r) :\n",
    "        q = (p + r)//2\n",
    "        Merge_Sort(arr, p, q)  # No need to think about, mid + 1 or mid etc.\n",
    "        Merge_Sort(arr, q+1 , r) # Just do this. This way we cover full Array. If we do Merge(arr,q,r) then infinity loop. Check why.(**)\n",
    "        Merge(arr, p, q, r)  # Merge will divide it likewise\n",
    "        \n",
    "# Don't worry about returning the modified array. In C, we needed pointers, but here Lists are by default Mutable."
   ]
  },
  {
   "cell_type": "code",
   "execution_count": 4,
   "id": "b773cc6c-e6a4-44ec-b8d3-c51e00e7332b",
   "metadata": {},
   "outputs": [
    {
     "name": "stdout",
     "output_type": "stream",
     "text": [
      "Copying remaining L\n",
      "Copying remaining R\n",
      "Copying remaining R\n",
      "Copying remaining R\n",
      "Copying remaining L\n",
      "Copying remaining L\n",
      "Copying remaining L\n"
     ]
    },
    {
     "data": {
      "text/plain": [
       "[5, 6, 7, 11, 12, 13]"
      ]
     },
     "execution_count": 4,
     "metadata": {},
     "output_type": "execute_result"
    }
   ],
   "source": [
    "arr = [12, 11, 13, 5, 6, 7]\n",
    "Merge_Sort(arr,0,5)\n",
    "arr\n"
   ]
  },
  {
   "cell_type": "markdown",
   "id": "edd91bb7-222c-44f3-88de-bcbbf4cb2683",
   "metadata": {},
   "source": [
    "** See, if we call MS(arr,0,2), then p = 0, r = 2.\n",
    "So q = 1\n",
    "So we call MS(0,1), MS(1,2).\n",
    "For MS(1,2) q = 1, so I call MS(1,1),MS(1,2). So we fall in infinite loop.\n",
    "So use MS(q+1, r)"
   ]
  },
  {
   "cell_type": "code",
   "execution_count": null,
   "id": "de7b857e-5704-4666-a0e6-87752ca01513",
   "metadata": {},
   "outputs": [],
   "source": []
  }
 ],
 "metadata": {
  "kernelspec": {
   "display_name": "Python 3 (ipykernel)",
   "language": "python",
   "name": "python3"
  },
  "language_info": {
   "codemirror_mode": {
    "name": "ipython",
    "version": 3
   },
   "file_extension": ".py",
   "mimetype": "text/x-python",
   "name": "python",
   "nbconvert_exporter": "python",
   "pygments_lexer": "ipython3",
   "version": "3.9.6"
  }
 },
 "nbformat": 4,
 "nbformat_minor": 5
}
