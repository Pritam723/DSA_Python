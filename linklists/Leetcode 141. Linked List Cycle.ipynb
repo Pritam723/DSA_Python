{
 "cells": [
  {
   "cell_type": "markdown",
   "id": "a6352f7a-4390-4299-b38d-cef3cdc74f5e",
   "metadata": {},
   "source": [
    "[Leetcode 141. Linked List Cycle](https://leetcode.com/problems/linked-list-cycle/)"
   ]
  },
  {
   "cell_type": "markdown",
   "id": "4e58d5a1-f906-4fb5-b3e6-48fe7084c17a",
   "metadata": {},
   "source": [
    "This requires the idea of Floyd's Cycle Detection algorithm using Slow and Fast Pointer."
   ]
  },
  {
   "cell_type": "code",
   "execution_count": 5,
   "id": "28f2cb81-07b5-495d-8416-b5f9849d0fc6",
   "metadata": {},
   "outputs": [
    {
     "data": {
      "text/plain": [
       "'See my solution : https://leetcode.com/submissions/detail/784838247/\\nRead about the algorithm : https://www.geeksforgeeks.org/floyds-cycle-finding-algorithm/\\nSimilar problems : https://leetcode.com/problems/find-the-duplicate-number/ , https://leetcode.com/problems/linked-list-cycle-ii/'"
      ]
     },
     "execution_count": 5,
     "metadata": {},
     "output_type": "execute_result"
    }
   ],
   "source": [
    "\"\"\"See my solution : https://leetcode.com/submissions/detail/784838247/\n",
    "Read about the algorithm : https://www.geeksforgeeks.org/floyds-cycle-finding-algorithm/\n",
    "Similar problems : https://leetcode.com/problems/find-the-duplicate-number/ , https://leetcode.com/problems/linked-list-cycle-ii/\"\"\""
   ]
  },
  {
   "cell_type": "code",
   "execution_count": 4,
   "id": "933e456c-29f4-4f85-8f06-22e2b2d73cc9",
   "metadata": {},
   "outputs": [],
   "source": [
    "# Definition for singly-linked list.\n",
    "# class ListNode(object):\n",
    "#     def __init__(self, x):\n",
    "#         self.val = x\n",
    "#         self.next = None\n",
    "\n",
    "class Solution(object):\n",
    "    def hasCycle(self, head):\n",
    "        \"\"\"\n",
    "        :type head: ListNode\n",
    "        :rtype: bool\n",
    "        \"\"\"\n",
    "        slowPointer = fastPointer = head\n",
    "        while(fastPointer != None and fastPointer.next != None) :\n",
    "            slowPointer = slowPointer.next\n",
    "            fastPointer = fastPointer.next.next # Dot operator is L to R\n",
    "            if(slowPointer == fastPointer) :\n",
    "                return True\n",
    "            \n",
    "        return False"
   ]
  },
  {
   "cell_type": "code",
   "execution_count": null,
   "id": "d671c465-2f40-485c-b029-7c2b0045bd2b",
   "metadata": {},
   "outputs": [],
   "source": []
  }
 ],
 "metadata": {
  "kernelspec": {
   "display_name": "Python 3 (ipykernel)",
   "language": "python",
   "name": "python3"
  },
  "language_info": {
   "codemirror_mode": {
    "name": "ipython",
    "version": 3
   },
   "file_extension": ".py",
   "mimetype": "text/x-python",
   "name": "python",
   "nbconvert_exporter": "python",
   "pygments_lexer": "ipython3",
   "version": "3.9.6"
  }
 },
 "nbformat": 4,
 "nbformat_minor": 5
}
