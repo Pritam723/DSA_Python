{
 "cells": [
  {
   "cell_type": "code",
   "execution_count": 93,
   "id": "592d20a3",
   "metadata": {},
   "outputs": [
    {
     "name": "stdout",
     "output_type": "stream",
     "text": [
      "<__main__.Node object at 0x0000013346A23B80>\n",
      "1319739997056\n"
     ]
    }
   ],
   "source": [
    "class Node :\n",
    "    \n",
    "    def __init__(self, data = None, nxt = None) :\n",
    "        self.data = data\n",
    "        self.nxt = nxt\n",
    "        \n",
    "        \n",
    "        \n",
    "# So if we create a node like this, the address of Node willl be id(node). But with this I can't access node.\n",
    "# So simply address it with node.\n",
    "\n",
    "node = Node(300)  # Same as None(300,None)\n",
    "\n",
    "print(node)\n",
    "print(id(node))"
   ]
  },
  {
   "cell_type": "code",
   "execution_count": 113,
   "id": "2d498694",
   "metadata": {},
   "outputs": [],
   "source": [
    "class LinkedList :\n",
    "    \n",
    "    def __init__(self) :\n",
    "        self.head = None\n",
    "        \n",
    "    # Inser at begining\n",
    "    \n",
    "    def insert_at_begining(self, data) :\n",
    "        node = Node(data, self.head)\n",
    "        self.head = node # Don't use id(node)\n",
    "        \n",
    "        \n",
    "    def traverse_linkedList(self) :\n",
    "        if(not self.head) :\n",
    "            print(\"Empty Linked List\")\n",
    "            \n",
    "        itr = self.head\n",
    "        llstr = ''\n",
    "        while(itr is not None) :\n",
    "            llstr = llstr + str(itr.data) + \"-->\"\n",
    "            itr = itr.nxt\n",
    "            \n",
    "        return llstr[:-3]\n",
    "    \n",
    "    def insert_at_end(self, data) :\n",
    "        \n",
    "        node = Node(data, None)\n",
    "        \n",
    "        if(self.head is None) :\n",
    "            self.head = node\n",
    "            print(\"LL was empty, New Node added\")\n",
    "            return\n",
    "            \n",
    "        \n",
    "        itr = self.head\n",
    "        \n",
    "        # We have to reach last node first. At last node, itr.nxt = None. We need to reach Last node.\n",
    "        # If itr becomes None, then no help.No coming back. So check for empty LL too.\n",
    "        \n",
    "        while(itr.nxt) :\n",
    "            itr = itr.nxt\n",
    "            \n",
    "        # So now itr has address of Last Node. (See, that's why itr.nxt is None now)\n",
    "        itr.nxt = node\n",
    "        # node.nxt = None (No need though)\n",
    "        print(\"New Node added at end\")\n",
    "        return\n",
    "    \n",
    "    \n",
    "    def insert_values(self, data_list = []) :\n",
    "        \"\"\"Create a fresh LL with the list of values\"\"\"\n",
    "        self.head = None\n",
    "        for data in data_list :\n",
    "            print(data)\n",
    "            self.insert_at_end(data)\n",
    "            \n",
    "    def get_length(self) :\n",
    "        # Actually if we maintain a variable length, and if each time we update it during insert and delete,\n",
    "        # then we can get length in O(1) also.\n",
    "        \n",
    "        length = 0\n",
    "        itr = self.head\n",
    "        while(itr) :\n",
    "            length = length + 1\n",
    "            itr = itr.nxt\n",
    "        return length\n",
    "    \n",
    "    \n",
    "    # Remove element at given index"
   ]
  },
  {
   "cell_type": "code",
   "execution_count": 114,
   "id": "6b6474a2",
   "metadata": {},
   "outputs": [],
   "source": [
    "my_ll = LinkedList()"
   ]
  },
  {
   "cell_type": "code",
   "execution_count": 115,
   "id": "3642a9ab",
   "metadata": {},
   "outputs": [],
   "source": [
    "my_ll.insert_at_begining(300)\n",
    "my_ll.insert_at_begining(400)\n",
    "my_ll.insert_at_begining(500)\n",
    "\n",
    "# So it looks like 500---400---300 Now"
   ]
  },
  {
   "cell_type": "code",
   "execution_count": 116,
   "id": "3eaf6455",
   "metadata": {},
   "outputs": [
    {
     "data": {
      "text/plain": [
       "'500-->400-->300'"
      ]
     },
     "execution_count": 116,
     "metadata": {},
     "output_type": "execute_result"
    }
   ],
   "source": [
    "my_ll.traverse_linkedList()"
   ]
  },
  {
   "cell_type": "code",
   "execution_count": 117,
   "id": "43ac9043",
   "metadata": {},
   "outputs": [
    {
     "name": "stdout",
     "output_type": "stream",
     "text": [
      "New Node added at end\n"
     ]
    },
    {
     "data": {
      "text/plain": [
       "'500-->400-->300-->200'"
      ]
     },
     "execution_count": 117,
     "metadata": {},
     "output_type": "execute_result"
    }
   ],
   "source": [
    "my_ll.insert_at_end(200)\n",
    "my_ll.traverse_linkedList()"
   ]
  },
  {
   "cell_type": "code",
   "execution_count": 118,
   "id": "07de1ce0",
   "metadata": {},
   "outputs": [
    {
     "name": "stdout",
     "output_type": "stream",
     "text": [
      "100\n",
      "LL was empty, New Node added\n",
      "200\n",
      "New Node added at end\n",
      "300\n",
      "New Node added at end\n",
      "400\n",
      "New Node added at end\n"
     ]
    }
   ],
   "source": [
    "# my_ll.insert_values.__doc__\n",
    "my_ll.insert_values([100,200,300,400])"
   ]
  },
  {
   "cell_type": "code",
   "execution_count": 119,
   "id": "e2c668c0",
   "metadata": {},
   "outputs": [
    {
     "data": {
      "text/plain": [
       "'100-->200-->300-->400'"
      ]
     },
     "execution_count": 119,
     "metadata": {},
     "output_type": "execute_result"
    }
   ],
   "source": [
    "my_ll.traverse_linkedList()"
   ]
  },
  {
   "cell_type": "code",
   "execution_count": 122,
   "id": "04888e1c",
   "metadata": {},
   "outputs": [
    {
     "data": {
      "text/plain": [
       "4"
      ]
     },
     "execution_count": 122,
     "metadata": {},
     "output_type": "execute_result"
    }
   ],
   "source": [
    "my_ll.get_length()"
   ]
  },
  {
   "cell_type": "code",
   "execution_count": null,
   "id": "5b33b055",
   "metadata": {},
   "outputs": [],
   "source": []
  }
 ],
 "metadata": {
  "kernelspec": {
   "display_name": "Python 3 (ipykernel)",
   "language": "python",
   "name": "python3"
  },
  "language_info": {
   "codemirror_mode": {
    "name": "ipython",
    "version": 3
   },
   "file_extension": ".py",
   "mimetype": "text/x-python",
   "name": "python",
   "nbconvert_exporter": "python",
   "pygments_lexer": "ipython3",
   "version": "3.9.6"
  }
 },
 "nbformat": 4,
 "nbformat_minor": 5
}
