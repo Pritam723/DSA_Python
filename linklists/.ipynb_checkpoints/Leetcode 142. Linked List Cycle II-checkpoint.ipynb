{
 "cells": [
  {
   "cell_type": "markdown",
   "id": "c691e3d1-73be-4bf2-915e-6087f8545be5",
   "metadata": {},
   "source": [
    "[Leetcode 142. Linked List Cycle II](https://leetcode.com/problems/linked-list-cycle-ii/)"
   ]
  },
  {
   "cell_type": "code",
   "execution_count": 1,
   "id": "5326089d-4202-483f-b6c9-5490c6ad6514",
   "metadata": {},
   "outputs": [],
   "source": [
    "# Definition for singly-linked list.\n",
    "# class ListNode(object):\n",
    "#     def __init__(self, x):\n",
    "#         self.val = x\n",
    "#         self.next = None\n",
    "\n",
    "class Solution(object):\n",
    "    def detectCycle(self, head):\n",
    "        \"\"\"\n",
    "        :type head: ListNode\n",
    "        :rtype: ListNode\n",
    "        \"\"\"\n",
    "        slowPointer = fastPointer = head\n",
    "        while(True) :\n",
    "            if(fastPointer == None or fastPointer.next == None) :\n",
    "                return None\n",
    "            \n",
    "            slowPointer = slowPointer.next\n",
    "            fastPointer = fastPointer.next.next # Dot operator is L to R\n",
    "            \n",
    "            if(slowPointer == fastPointer) :\n",
    "                # Now once they meet. Move the slowPointer to Head and now \n",
    "                # increment both FP and SP by +1 step. They will always meet\n",
    "                # at start of cycle. Read Floyd's Cycle detection algorithm.\n",
    "                slowPointer = head\n",
    "                break\n",
    "        \n",
    "        # index = 0\n",
    "        while(slowPointer != fastPointer) :\n",
    "            slowPointer = slowPointer.next\n",
    "            fastPointer = fastPointer.next\n",
    "            # index = index + 1\n",
    "            \n",
    "        return slowPointer\n",
    "            \n",
    "\n",
    "\n",
    "\n",
    "            \n",
    "            "
   ]
  },
  {
   "cell_type": "code",
   "execution_count": null,
   "id": "920e59fa-036a-4577-b4a9-5c5c6311e3f2",
   "metadata": {},
   "outputs": [],
   "source": []
  }
 ],
 "metadata": {
  "kernelspec": {
   "display_name": "Python 3 (ipykernel)",
   "language": "python",
   "name": "python3"
  },
  "language_info": {
   "codemirror_mode": {
    "name": "ipython",
    "version": 3
   },
   "file_extension": ".py",
   "mimetype": "text/x-python",
   "name": "python",
   "nbconvert_exporter": "python",
   "pygments_lexer": "ipython3",
   "version": "3.9.6"
  }
 },
 "nbformat": 4,
 "nbformat_minor": 5
}
