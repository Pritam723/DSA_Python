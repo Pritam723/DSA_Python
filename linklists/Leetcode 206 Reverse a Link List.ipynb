{
 "cells": [
  {
   "cell_type": "markdown",
   "id": "c8e38510-3f75-4a80-bc8d-dae23cfd1205",
   "metadata": {},
   "source": [
    "[Leetcode 206 Reverse a Link List](https://leetcode.com/submissions/detail/774556236/)"
   ]
  },
  {
   "cell_type": "code",
   "execution_count": 1,
   "id": "007aa2da-88cb-442e-a39b-acdf52fd36ee",
   "metadata": {},
   "outputs": [],
   "source": [
    "# Definition for singly-linked list.\n",
    "# class ListNode(object):\n",
    "#     def __init__(self, val=0, next=None):\n",
    "#         self.val = val\n",
    "#         self.next = next\n",
    "\n",
    "\n",
    "\n",
    "def reverse(curr, prev = None) :\n",
    "    \n",
    "    if(curr == None) :\n",
    "        return prev\n",
    "    else :\n",
    "        new_head = reverse(curr.next, curr) # Careful, second param is prev.\n",
    "        curr.next = prev\n",
    "        return new_head\n",
    "\n",
    "    \n",
    "class Solution(object):\n",
    "    \n",
    "    def reverseList(self, head):\n",
    "        \"\"\"\n",
    "        :type head: ListNode\n",
    "        :rtype: ListNode\n",
    "        \"\"\"\n",
    "        head = reverse(head, None)\n",
    "        return head\n",
    "        \n",
    "\n",
    "        "
   ]
  },
  {
   "cell_type": "code",
   "execution_count": null,
   "id": "eeb20a4a-3e15-42d3-a457-6ee60b8c4c3d",
   "metadata": {},
   "outputs": [],
   "source": []
  }
 ],
 "metadata": {
  "kernelspec": {
   "display_name": "Python 3 (ipykernel)",
   "language": "python",
   "name": "python3"
  },
  "language_info": {
   "codemirror_mode": {
    "name": "ipython",
    "version": 3
   },
   "file_extension": ".py",
   "mimetype": "text/x-python",
   "name": "python",
   "nbconvert_exporter": "python",
   "pygments_lexer": "ipython3",
   "version": "3.9.6"
  }
 },
 "nbformat": 4,
 "nbformat_minor": 5
}
