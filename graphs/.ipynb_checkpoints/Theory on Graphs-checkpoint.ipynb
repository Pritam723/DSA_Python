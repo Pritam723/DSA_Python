{
 "cells": [
  {
   "cell_type": "markdown",
   "id": "e714513d-5664-4595-9e3c-5be0f7b9224e",
   "metadata": {},
   "source": [
    "###### Facebook friend suggestion, Amazon \"Popular bands you may like\" : One of the utility of Graph.\n",
    "###### Flight Routes : Directed Graphs. (Can be weighted too)\n",
    "###### In Tree there is only one path b/w 2 nodes, but Graph can be complex.\n",
    "###### Actually Tree is a Graph with no cycle."
   ]
  },
  {
   "cell_type": "markdown",
   "id": "73f52af7-cb0a-4cdc-9700-59122cb6e537",
   "metadata": {},
   "source": [
    "###### Now, how can we represt it using Data Structure. Now, if we think about connection b/w the nodes, it is basically pair of nodes. So, for edges we can have List of Tuples. Each Tuple is <Start City, End City> i.e. an Edge."
   ]
  },
  {
   "cell_type": "markdown",
   "id": "690161fc-1d7a-47de-aa89-219ec96b33f5",
   "metadata": {},
   "source": [
    "![FlightRoutes](FlightRoute.jpg)"
   ]
  },
  {
   "cell_type": "code",
   "execution_count": 18,
   "id": "7cb79659-d104-446c-a85b-d7011292fda6",
   "metadata": {},
   "outputs": [],
   "source": [
    "class Graph :\n",
    "    def __init__(self, edges) :\n",
    "        self.edges = edges\n",
    "        self.graph_dict = {}\n",
    "        for start, end in self.edges : # Since List items are tuples, we can unpack tuple items like this.\n",
    "            if(start in self.graph_dict) :\n",
    "                self.graph_dict[start].append(end)\n",
    "            else :\n",
    "                self.graph_dict[start] = [end]"
   ]
  },
  {
   "cell_type": "code",
   "execution_count": 19,
   "id": "28e9153f-7c68-40c6-8dc6-17597834885a",
   "metadata": {},
   "outputs": [],
   "source": [
    "if __name__ == '__main__' :\n",
    "    routes = [\n",
    "        (\"Mumbai\", \"Paris\"),\n",
    "        (\"Mumbai\", \"Dubai\"),\n",
    "        (\"Paris\", \"Dubai\"),\n",
    "        (\"Paris\", \"New York\"),\n",
    "        (\"Dubai\", \"New York\"),\n",
    "        (\"New York\", \"Toronto\"),\n",
    "    ]\n",
    "    \n",
    "    route_graph = Graph(routes)"
   ]
  },
  {
   "cell_type": "markdown",
   "id": "537c9274-aa5e-4412-a584-5cc678589913",
   "metadata": {},
   "source": [
    "###### But, List of Tuples is not the best DS for storing Edges. A better implementation will be to use a Dictionary.\n",
    "\n",
    "d = {\n",
    "    \"Mumbai\" : [\"Paris\", \"Dubai\"],\n",
    "    \"Paris\" : [\"Dubai\", \"New York\"],\n",
    "    etc...\n",
    "}"
   ]
  },
  {
   "cell_type": "code",
   "execution_count": 20,
   "id": "67d32304-4854-448e-9e19-b2d26bb6e614",
   "metadata": {},
   "outputs": [],
   "source": [
    "# So, let's do that.\n",
    "graph_dict = {}\n",
    "for route in routes :\n",
    "    if(route[0] in graph_dict) :\n",
    "        graph_dict[route[0]].append(route[1])\n",
    "    else :\n",
    "        graph_dict[route[0]] = [route[1]]"
   ]
  },
  {
   "cell_type": "code",
   "execution_count": 21,
   "id": "357dc092-bbf1-48c7-8894-053cbdc4240b",
   "metadata": {},
   "outputs": [
    {
     "name": "stdout",
     "output_type": "stream",
     "text": [
      "{'Mumbai': ['Paris', 'Dubai'], 'Paris': ['Dubai', 'New York'], 'Dubai': ['New York'], 'New York': ['Toronto']}\n"
     ]
    }
   ],
   "source": [
    "print(graph_dict) # Basically it is Storing a Link List (List here against each Key)"
   ]
  },
  {
   "cell_type": "markdown",
   "id": "33c2f6ea-1f30-4049-8a3d-ee1922ef9bb2",
   "metadata": {},
   "source": [
    "###### Let's move this to our Class"
   ]
  },
  {
   "cell_type": "code",
   "execution_count": null,
   "id": "6f8cabaa-96e4-4d82-a45a-f05d4d7f4287",
   "metadata": {},
   "outputs": [],
   "source": []
  }
 ],
 "metadata": {
  "kernelspec": {
   "display_name": "Python 3 (ipykernel)",
   "language": "python",
   "name": "python3"
  },
  "language_info": {
   "codemirror_mode": {
    "name": "ipython",
    "version": 3
   },
   "file_extension": ".py",
   "mimetype": "text/x-python",
   "name": "python",
   "nbconvert_exporter": "python",
   "pygments_lexer": "ipython3",
   "version": "3.9.6"
  }
 },
 "nbformat": 4,
 "nbformat_minor": 5
}
