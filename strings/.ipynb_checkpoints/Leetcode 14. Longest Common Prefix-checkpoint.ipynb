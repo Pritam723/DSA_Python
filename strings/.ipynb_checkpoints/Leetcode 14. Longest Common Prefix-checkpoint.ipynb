{
 "cells": [
  {
   "cell_type": "markdown",
   "id": "5d77d0f0-4c21-4818-9afd-e4f8ef4b5575",
   "metadata": {},
   "source": [
    "[Leetcode 14. Longest Common Prefix](https://leetcode.com/problems/longest-common-prefix/)"
   ]
  },
  {
   "cell_type": "code",
   "execution_count": 14,
   "id": "28e13ece-0074-4054-bee9-fe3a1bfd3b84",
   "metadata": {},
   "outputs": [],
   "source": [
    "def common(str1, str2) :\n",
    "    \n",
    "    min_len = min(len(str1), len(str2))\n",
    "    for i in range(min_len) :\n",
    "        if(str1[i] != str2[i]) :\n",
    "            return str1[:i]\n",
    "        \n",
    "    return str1[:min_len]"
   ]
  },
  {
   "cell_type": "code",
   "execution_count": 19,
   "id": "8b7993a6-a56a-4ed9-9ae5-f5314b057e60",
   "metadata": {},
   "outputs": [],
   "source": [
    "def longestCommonPrefix(strs):\n",
    "    \"\"\"\n",
    "    :type strs: List[str]\n",
    "    :rtype: str\n",
    "    \"\"\"\n",
    "    \n",
    "    longestCommon = strs[0]\n",
    "    i = 1\n",
    "    \n",
    "    while(i < len(strs)) :\n",
    "        \n",
    "        longestCommon = common(longestCommon, strs[i])\n",
    "        \n",
    "        i = i + 1\n",
    "        \n",
    "    return longestCommon"
   ]
  },
  {
   "cell_type": "code",
   "execution_count": 22,
   "id": "740e8e72-fe73-4b1c-9d5a-001a94e038c8",
   "metadata": {},
   "outputs": [
    {
     "data": {
      "text/plain": [
       "''"
      ]
     },
     "execution_count": 22,
     "metadata": {},
     "output_type": "execute_result"
    }
   ],
   "source": [
    "strs = [\"cat\",\"flow\",\"glight\"]\n",
    "\n",
    "longestCommonPrefix(strs)"
   ]
  },
  {
   "cell_type": "code",
   "execution_count": 8,
   "id": "7851b1eb-5ba8-4955-b412-f6f1369fb94e",
   "metadata": {},
   "outputs": [
    {
     "data": {
      "text/plain": [
       "0"
      ]
     },
     "execution_count": 8,
     "metadata": {},
     "output_type": "execute_result"
    }
   ],
   "source": [
    "x = \"\"\n",
    "len(x)"
   ]
  },
  {
   "cell_type": "code",
   "execution_count": 16,
   "id": "c066c321-fe24-4af8-8114-b75614c0a5e9",
   "metadata": {},
   "outputs": [
    {
     "data": {
      "text/plain": [
       "''"
      ]
     },
     "execution_count": 16,
     "metadata": {},
     "output_type": "execute_result"
    }
   ],
   "source": [
    "common(\"\", \"ab\")"
   ]
  },
  {
   "cell_type": "markdown",
   "id": "13c93656-5f55-4248-99d4-68cb1c6c30c2",
   "metadata": {},
   "source": [
    "###### Method 2 : In the previous case, we did horizontal scanning. We can also do vertical scanning. It will make avg case = Theta(n * length of minimum length string)"
   ]
  },
  {
   "cell_type": "markdown",
   "id": "7ad2b0e5-cda7-4493-98af-61690aee4143",
   "metadata": {},
   "source": [
    "###### Say we have 'flower' , 'flow' , 'flight'. We scan first character of each string, if all equal then move the pointer the next location & continue.\n",
    "\n",
    "# There are lot of edge cases, use try except or chevk with length."
   ]
  },
  {
   "cell_type": "code",
   "execution_count": null,
   "id": "9185e86a-cb8f-4530-a7e4-6ac626b78548",
   "metadata": {},
   "outputs": [],
   "source": [
    "def longestCommonPrefix2(strs) :\n",
    "    \n",
    "    \n",
    "    \n",
    "#     i = 0\n",
    "#     matchFlag = True\n",
    "    \n",
    "#     while(matchFlag) :\n",
    "#     #So here we are changing index only. And looping the entire array each time.\n",
    "#         for item in strs :\n",
    "#                 Do...\n",
    "#         i = i + 1\n",
    "\n",
    "\n"
   ]
  }
 ],
 "metadata": {
  "kernelspec": {
   "display_name": "Python 3 (ipykernel)",
   "language": "python",
   "name": "python3"
  },
  "language_info": {
   "codemirror_mode": {
    "name": "ipython",
    "version": 3
   },
   "file_extension": ".py",
   "mimetype": "text/x-python",
   "name": "python",
   "nbconvert_exporter": "python",
   "pygments_lexer": "ipython3",
   "version": "3.9.6"
  }
 },
 "nbformat": 4,
 "nbformat_minor": 5
}
