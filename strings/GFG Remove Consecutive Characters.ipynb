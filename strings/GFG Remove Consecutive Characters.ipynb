{
 "cells": [
  {
   "cell_type": "code",
   "execution_count": 10,
   "id": "36ccdcf5-f06f-4e2f-81f5-79f7b75ed49d",
   "metadata": {},
   "outputs": [],
   "source": [
    "def removeConsecutiveCharacter(S):\n",
    "    arr = [S[0]]\n",
    "    i = j = 1\n",
    "    while(i < len(S)) :\n",
    "        \n",
    "        if(S[i] != arr[j - 1]) :\n",
    "            arr.append(S[i])\n",
    "            j = j + 1\n",
    "        \n",
    "        i = i + 1\n",
    "    return \"\".join(arr)"
   ]
  },
  {
   "cell_type": "code",
   "execution_count": 11,
   "id": "00294ead-05ec-416a-99d9-52e65bca6648",
   "metadata": {},
   "outputs": [
    {
     "data": {
      "text/plain": [
       "'abababa'"
      ]
     },
     "execution_count": 11,
     "metadata": {},
     "output_type": "execute_result"
    }
   ],
   "source": [
    "s = \"abababaa\"\n",
    "removeConsecutiveCharacter(s)"
   ]
  },
  {
   "cell_type": "code",
   "execution_count": null,
   "id": "36f2bdc0-c29d-4a66-a1de-7256ed7644dc",
   "metadata": {},
   "outputs": [],
   "source": []
  }
 ],
 "metadata": {
  "kernelspec": {
   "display_name": "Python 3 (ipykernel)",
   "language": "python",
   "name": "python3"
  },
  "language_info": {
   "codemirror_mode": {
    "name": "ipython",
    "version": 3
   },
   "file_extension": ".py",
   "mimetype": "text/x-python",
   "name": "python",
   "nbconvert_exporter": "python",
   "pygments_lexer": "ipython3",
   "version": "3.9.6"
  }
 },
 "nbformat": 4,
 "nbformat_minor": 5
}
