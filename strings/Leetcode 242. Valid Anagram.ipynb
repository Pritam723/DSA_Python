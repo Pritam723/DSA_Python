{
 "cells": [
  {
   "cell_type": "code",
   "execution_count": 11,
   "id": "d538253c",
   "metadata": {},
   "outputs": [],
   "source": [
    "def isAnagram(s, t):\n",
    "    \"\"\"\n",
    "    :type s: str\n",
    "    :type t: str\n",
    "    :rtype: bool\n",
    "    \"\"\"\n",
    "    if(len(s) != len(t)) :\n",
    "        return False\n",
    "    \n",
    "    count = [0]*128 # (Because ASCII will range from 0 to 127)\n",
    "    \n",
    "    i = 0\n",
    "    while(i < len(s)) :\n",
    "        count[ord(s[i])] = count[ord(s[i])] + 1\n",
    "        count[ord(t[i])] = count[ord(t[i])] - 1\n",
    "        i = i + 1\n",
    "    \n",
    "    for item in count :\n",
    "        if(item != 0) :\n",
    "            return False\n",
    "        \n",
    "    return True\n"
   ]
  },
  {
   "cell_type": "code",
   "execution_count": 13,
   "id": "fa0f1f7b",
   "metadata": {},
   "outputs": [
    {
     "data": {
      "text/plain": [
       "True"
      ]
     },
     "execution_count": 13,
     "metadata": {},
     "output_type": "execute_result"
    }
   ],
   "source": [
    "s = \"triangle\"\n",
    "t = \"integral\"\n",
    "\n",
    "isAnagram(s,t)"
   ]
  },
  {
   "cell_type": "code",
   "execution_count": null,
   "id": "68493bd6",
   "metadata": {},
   "outputs": [],
   "source": []
  }
 ],
 "metadata": {
  "kernelspec": {
   "display_name": "Python 3 (ipykernel)",
   "language": "python",
   "name": "python3"
  },
  "language_info": {
   "codemirror_mode": {
    "name": "ipython",
    "version": 3
   },
   "file_extension": ".py",
   "mimetype": "text/x-python",
   "name": "python",
   "nbconvert_exporter": "python",
   "pygments_lexer": "ipython3",
   "version": "3.9.6"
  }
 },
 "nbformat": 4,
 "nbformat_minor": 5
}
