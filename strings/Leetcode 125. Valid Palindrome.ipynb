{
 "cells": [
  {
   "cell_type": "code",
   "execution_count": 42,
   "id": "e3bbcf10",
   "metadata": {},
   "outputs": [
    {
     "name": "stdout",
     "output_type": "stream",
     "text": [
      "97 122 65 90 48 57\n"
     ]
    }
   ],
   "source": [
    "print(ord('a'), ord('z'), ord('A'), ord('Z'), ord('0'), ord('9'))"
   ]
  },
  {
   "cell_type": "code",
   "execution_count": 51,
   "id": "cba79918",
   "metadata": {},
   "outputs": [],
   "source": [
    "def check_alphanumeric(ch) :\n",
    "    return((ord(ch) >= 97 and ord(ch) <= 122) or (ord(ch) >= 65 and ord(ch) <= 90) or (ord(ch) >= 48 and ord(ch) <= 57))\n",
    "\n",
    "def convert_to_lower(ch) :\n",
    "    if(ord(ch) >= 65 and ord(ch) <= 90) :\n",
    "        return chr(ord(ch) + 32)\n",
    "    else :\n",
    "        return ch"
   ]
  },
  {
   "cell_type": "code",
   "execution_count": 52,
   "id": "9d69d978",
   "metadata": {},
   "outputs": [
    {
     "data": {
      "text/plain": [
       "False"
      ]
     },
     "execution_count": 52,
     "metadata": {},
     "output_type": "execute_result"
    }
   ],
   "source": [
    "check_alphanumeric(' ')"
   ]
  },
  {
   "cell_type": "code",
   "execution_count": 53,
   "id": "d0d0ec42",
   "metadata": {},
   "outputs": [
    {
     "data": {
      "text/plain": [
       "'d'"
      ]
     },
     "execution_count": 53,
     "metadata": {},
     "output_type": "execute_result"
    }
   ],
   "source": [
    "convert_to_lower('d')"
   ]
  },
  {
   "cell_type": "code",
   "execution_count": 56,
   "id": "cf33c140",
   "metadata": {},
   "outputs": [],
   "source": [
    "def isPalindrome(s):\n",
    "    \"\"\"\n",
    "    :type s: str\n",
    "    :rtype: bool\n",
    "    \"\"\"\n",
    "    length = len(s)\n",
    "    f = 0\n",
    "    l = length - 1\n",
    "    \n",
    "    while(f < l) :\n",
    "        # print(f,l)\n",
    "        # print(s[f],s[l])\n",
    "\n",
    "        if(check_alphanumeric(s[f]) and check_alphanumeric(s[l])) :\n",
    "            if(convert_to_lower(s[f]) == convert_to_lower(s[l])) :\n",
    "                f = f + 1\n",
    "                l = l - 1\n",
    "            else :\n",
    "                return False\n",
    "        else :\n",
    "            # It can be the case that only one is not alphanumeric\n",
    "            # Or, Both can be non alphanumeric. So use both if.\n",
    "            if(not check_alphanumeric(s[f])) :\n",
    "                f = f + 1\n",
    "            \n",
    "            if(not check_alphanumeric(s[l])) :\n",
    "                l = l - 1\n",
    "                \n",
    "    return True"
   ]
  },
  {
   "cell_type": "code",
   "execution_count": 57,
   "id": "a747d4b6",
   "metadata": {},
   "outputs": [
    {
     "data": {
      "text/plain": [
       "True"
      ]
     },
     "execution_count": 57,
     "metadata": {},
     "output_type": "execute_result"
    }
   ],
   "source": [
    "s = \"A man, a plan, a canal: Panama\"\n",
    "\n",
    "isPalindrome(s)"
   ]
  }
 ],
 "metadata": {
  "kernelspec": {
   "display_name": "Python 3 (ipykernel)",
   "language": "python",
   "name": "python3"
  },
  "language_info": {
   "codemirror_mode": {
    "name": "ipython",
    "version": 3
   },
   "file_extension": ".py",
   "mimetype": "text/x-python",
   "name": "python",
   "nbconvert_exporter": "python",
   "pygments_lexer": "ipython3",
   "version": "3.9.6"
  }
 },
 "nbformat": 4,
 "nbformat_minor": 5
}
