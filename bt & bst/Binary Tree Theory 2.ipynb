{
 "cells": [
  {
   "cell_type": "markdown",
   "id": "45d78f06-a910-451d-922c-71139ec7a510",
   "metadata": {},
   "source": [
    "###### Now, let's see deletion from BST. Read theory from Notes.\n",
    "###### Concept of inorder predecessor/ successor comes in picture\n",
    "[Read about BST Deletion](https://www.geeksforgeeks.org/binary-search-tree-set-2-delete/)"
   ]
  },
  {
   "cell_type": "code",
   "execution_count": 2,
   "id": "904947d9-2509-4be4-b248-7e88cc562f09",
   "metadata": {},
   "outputs": [],
   "source": [
    "### From previous Theroy part we had\n",
    "\n",
    "class BinarySearchTreeNode :\n",
    "    \n",
    "    def __init__(self, data) :\n",
    "        self.data = data\n",
    "        self.left = None\n",
    "        self.right = None\n",
    "        \n",
    "    def add_child(self, data) :\n",
    "\n",
    "        if(self.data == data) :\n",
    "            return \"Key already exists\"\n",
    "        \n",
    "        elif(self.data < data) :\n",
    "            if self.right is None :\n",
    "                self.right = BinarySearchTreeNode(data)\n",
    "            else : \n",
    "                self.right.add_child(data)\n",
    "        else :\n",
    "            if self.left is None :\n",
    "                self.left = BinarySearchTreeNode(data)\n",
    "            else :\n",
    "                self.left.add_child(data)\n",
    "                \n",
    "    def in_order_traversal(self) :\n",
    "        elements = []\n",
    "        \n",
    "        if self.left is not None :\n",
    "            elements = elements + self.left.in_order_traversal()\n",
    "        \n",
    "        elements.append(self.data)\n",
    "        \n",
    "        \n",
    "        if self.right is not None :\n",
    "            elements = elements + self.right.in_order_traversal() \n",
    "            \n",
    "        return elements\n",
    "    \n",
    "    def search(self, val) :\n",
    "        if(val == self.data) :\n",
    "            return True\n",
    "        elif(val > self.data) :\n",
    "            return False if self.right is None else self.right.search(val) \n",
    "        elif(val < self.data) :\n",
    "            return False if self.left is None else self.left.search(val)            \n",
    "    \n",
    "    #### Now before writing the delete function, let's make find_max() and find_min()\n",
    "    \n",
    "    def find_max(self) : # Surely, max will be at right most\n",
    "        if(self.right is None) :\n",
    "            return self.data\n",
    "        else :\n",
    "            return self.right.find_max()\n",
    "        \n",
    "    def find_min(self) : # Surely, min will be at left most\n",
    "        if(self.left is None) :\n",
    "            return self.data\n",
    "        else :\n",
    "            return self.left.find_min()\n",
    "        \n",
    "    #### Now let's make the Delete Function.\n",
    "    \n",
    "    def delete(self, value) :\n",
    "        # Actually, we have to locate the key first.\n",
    "        if(value < self.data) : # So, the value should be in the LST\n",
    "            if self.left is None :\n",
    "                return \"Key not found\"\n",
    "            else :\n",
    "                self.left.delete(value)\n",
    "        elif(value > self.data) :\n",
    "            if self.right is None :\n",
    "                return \"Key not found\"\n",
    "            else :\n",
    "                self.right.delete(value)\n",
    "        else : # So, now we have found the key. Now comes the difficult part.\n",
    "            # If the node is a leaf, then simply delete it.\n",
    "            if(self.left is None and self.right is None) :\n",
    "                return None\n",
    "            \n",
    "            # If the node has only one child,\n",
    "            if(self.left is None) :\n",
    "                return self.right\n",
    "            elif(self.right is None) :\n",
    "                return self.left\n",
    "            # If the node has both the child\n",
    "            else :\n",
    "                rst_min_val = self.right.find_min() # Inorder successor\n",
    "                self.data = rst_min_val\n",
    "                # So now, my node is gone. But RST has a duplicate value = rst_min_val. RST is also maintaining BST,\n",
    "                self.right = self.right.delete(rst_min_val)\n",
    "                "
   ]
  },
  {
   "cell_type": "code",
   "execution_count": 3,
   "id": "6be7af53-5037-4719-9b45-03af7c3c2158",
   "metadata": {},
   "outputs": [],
   "source": [
    "# Helper function\n",
    "\n",
    "def build_bst(elements) :\n",
    "    root = BinarySearchTreeNode(elements[0])\n",
    "    for item in elements[1:] :\n",
    "        root.add_child(item)    \n",
    "    return root\n",
    "\n",
    "nums = [10,7,8,12,23,44,17,16,88,79,11] # Even if we put 10,12 again, it will not be added. Just like SET.\n",
    "# We can also use Strings as elements.\n",
    "# nums = [\"India\" , \"USA\" , \"Russia\", \"Srilanka\"]\n",
    "bst = build_bst(nums)"
   ]
  },
  {
   "cell_type": "code",
   "execution_count": 5,
   "id": "703bc05c-94b4-4a7d-8d47-74b511f1e367",
   "metadata": {},
   "outputs": [
    {
     "data": {
      "text/plain": [
       "88"
      ]
     },
     "execution_count": 5,
     "metadata": {},
     "output_type": "execute_result"
    }
   ],
   "source": [
    "bst.find_max()"
   ]
  },
  {
   "cell_type": "code",
   "execution_count": null,
   "id": "29e8576b-47df-4228-8bdf-dd4b2e90ca9d",
   "metadata": {},
   "outputs": [],
   "source": []
  }
 ],
 "metadata": {
  "kernelspec": {
   "display_name": "Python 3 (ipykernel)",
   "language": "python",
   "name": "python3"
  },
  "language_info": {
   "codemirror_mode": {
    "name": "ipython",
    "version": 3
   },
   "file_extension": ".py",
   "mimetype": "text/x-python",
   "name": "python",
   "nbconvert_exporter": "python",
   "pygments_lexer": "ipython3",
   "version": "3.9.6"
  }
 },
 "nbformat": 4,
 "nbformat_minor": 5
}
