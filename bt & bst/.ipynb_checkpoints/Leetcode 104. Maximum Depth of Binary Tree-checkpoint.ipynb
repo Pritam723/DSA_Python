{
 "cells": [
  {
   "cell_type": "markdown",
   "id": "c5c05382-fa36-4e3d-8400-30f3ad2c75bc",
   "metadata": {},
   "source": [
    "[Leetcode 104. Maximum Depth of Binary Tree](https://leetcode.com/problems/maximum-depth-of-binary-tree/)"
   ]
  },
  {
   "cell_type": "code",
   "execution_count": 1,
   "id": "ee554b33-af27-4121-b262-cbb0aaebb870",
   "metadata": {},
   "outputs": [],
   "source": [
    "# Definition for a binary tree node.\n",
    "# class TreeNode(object):\n",
    "#     def __init__(self, val=0, left=None, right=None):\n",
    "#         self.val = val\n",
    "#         self.left = left\n",
    "#         self.right = right\n",
    "class Solution(object):\n",
    "    def maxDepth(self, root):\n",
    "        \"\"\"\n",
    "        :type root: TreeNode\n",
    "        :rtype: int\n",
    "        \"\"\"\n",
    "        if(root is None) :\n",
    "            return 0\n",
    "        #elif(root.left is None and root.right is None) : # It's a leaf. \n",
    "            #return 1\n",
    "        else :\n",
    "            l_height = self.maxDepth(root.left)\n",
    "            r_height = self.maxDepth(root.right)\n",
    "            return 1+max(l_height, r_height)\n",
    "    \n",
    "    #In fact I can skip the leaf check totally.\n"
   ]
  },
  {
   "cell_type": "code",
   "execution_count": null,
   "id": "9641496e-1b55-42a2-83cb-888c4fc35f86",
   "metadata": {},
   "outputs": [],
   "source": []
  }
 ],
 "metadata": {
  "kernelspec": {
   "display_name": "Python 3 (ipykernel)",
   "language": "python",
   "name": "python3"
  },
  "language_info": {
   "codemirror_mode": {
    "name": "ipython",
    "version": 3
   },
   "file_extension": ".py",
   "mimetype": "text/x-python",
   "name": "python",
   "nbconvert_exporter": "python",
   "pygments_lexer": "ipython3",
   "version": "3.9.6"
  }
 },
 "nbformat": 4,
 "nbformat_minor": 5
}
