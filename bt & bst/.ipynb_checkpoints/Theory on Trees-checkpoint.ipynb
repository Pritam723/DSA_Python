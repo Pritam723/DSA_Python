{
 "cells": [
  {
   "cell_type": "markdown",
   "id": "62e0998c-a2da-4562-937d-a33ce9872c6d",
   "metadata": {},
   "source": [
    "###### When we require hierarchical structure, we use Trees. Let's see general Trees first. Then we will see Binary Trees."
   ]
  },
  {
   "cell_type": "code",
   "execution_count": 58,
   "id": "59900cf9-6ffd-41c2-b3d5-28e4f83753aa",
   "metadata": {},
   "outputs": [],
   "source": [
    "class TreeNode :\n",
    "    def __init__(self, data) :\n",
    "        self.data = data\n",
    "        self.children = [] # It's a list of TreeNode Object only. So, it is self referential.\n",
    "        self.parent = None\n",
    "    def add_child(self, child) : # Child is a TreeNode itself.\n",
    "        child.parent = self\n",
    "        self.children.append(child)\n",
    "    def print_tree(self, indentation = 0) :\n",
    "        print(\" \" * indentation + self.data)\n",
    "        indentation = indentation + 4\n",
    "        for child in self.children :\n",
    "            child.print_tree(indentation = indentation)\n",
    "    def get_level(self) :\n",
    "        if(self.parent == None) :\n",
    "            return 0\n",
    "        else :\n",
    "            return 1 + self.parent.get_level()\n",
    "        \n",
    "    # Using the get_level function, we can make better vizualization of the tree.\n",
    "    def visualize_tree(self) :\n",
    "        \n",
    "        prefixSpace = \"\"\n",
    "        if(self.get_level()) :\n",
    "            prefixSpace = 4 * \" \" * self.get_level() + \"|__ \"\n",
    "        \n",
    "        print(prefixSpace + self.data)\n",
    "        \n",
    "        for child in self.children :\n",
    "            child.visualize_tree()"
   ]
  },
  {
   "cell_type": "code",
   "execution_count": 59,
   "id": "cb06582e-46b1-460e-9893-607a06fd553b",
   "metadata": {},
   "outputs": [],
   "source": [
    "\n",
    "def build_product_tree() :\n",
    "    \n",
    "    root = TreeNode(\"Electronics\")\n",
    "    \n",
    "    laptop = TreeNode(\"Laptop\")\n",
    "    laptop.add_child(TreeNode(\"Mac\"))\n",
    "    laptop.add_child(TreeNode(\"MSI\"))\n",
    "    laptop.add_child(TreeNode(\"ASUS\"))\n",
    "    \n",
    "    cellPhone = TreeNode(\"Cell Phone\")\n",
    "    cellPhone.add_child(TreeNode(\"iPhone\"))\n",
    "    cellPhone.add_child(TreeNode(\"Pixel\"))\n",
    "    cellPhone.add_child(TreeNode(\"Vivo\"))\n",
    "    \n",
    "    tv = TreeNode(\"TV\")\n",
    "    tv.add_child(TreeNode(\"Panasonic\"))\n",
    "    tv.add_child(TreeNode(\"Samsung\"))\n",
    "    tv.add_child(TreeNode(\"LG\"))\n",
    "    \n",
    "    \n",
    "    root.add_child(laptop)\n",
    "    root.add_child(cellPhone)\n",
    "    root.add_child(tv)\n",
    "    \n",
    "    return root\n",
    "\n",
    "if __name__ == \"__main__\" : # https://www.freecodecamp.org/news/if-name-main-python-example/\n",
    "    root = build_product_tree()"
   ]
  },
  {
   "cell_type": "code",
   "execution_count": 60,
   "id": "c79a436c-9aa4-4104-b0ef-274ba49a8537",
   "metadata": {},
   "outputs": [],
   "source": [
    "# root.children[0].children[0].data"
   ]
  },
  {
   "cell_type": "code",
   "execution_count": 61,
   "id": "5a08ca05-8279-4555-91e4-467571287c26",
   "metadata": {},
   "outputs": [
    {
     "name": "stdout",
     "output_type": "stream",
     "text": [
      "Electronics\n",
      "    |__ Laptop\n",
      "        |__ Mac\n",
      "        |__ MSI\n",
      "        |__ ASUS\n",
      "    |__ Cell Phone\n",
      "        |__ iPhone\n",
      "        |__ Pixel\n",
      "        |__ Vivo\n",
      "    |__ TV\n",
      "        |__ Panasonic\n",
      "        |__ Samsung\n",
      "        |__ LG\n"
     ]
    }
   ],
   "source": [
    "#  Let's make a function to print the Tree\n",
    "# root.print_tree()\n",
    "root.visualize_tree()"
   ]
  },
  {
   "cell_type": "code",
   "execution_count": 62,
   "id": "9edb3c8c-1953-436b-b57c-98c77364e0ca",
   "metadata": {},
   "outputs": [],
   "source": [
    "# root.children[0].get_level()"
   ]
  },
  {
   "cell_type": "code",
   "execution_count": null,
   "id": "5eff9396-c6a0-4751-8aab-db26f5bb5f19",
   "metadata": {},
   "outputs": [],
   "source": []
  }
 ],
 "metadata": {
  "kernelspec": {
   "display_name": "Python 3 (ipykernel)",
   "language": "python",
   "name": "python3"
  },
  "language_info": {
   "codemirror_mode": {
    "name": "ipython",
    "version": 3
   },
   "file_extension": ".py",
   "mimetype": "text/x-python",
   "name": "python",
   "nbconvert_exporter": "python",
   "pygments_lexer": "ipython3",
   "version": "3.9.6"
  }
 },
 "nbformat": 4,
 "nbformat_minor": 5
}
