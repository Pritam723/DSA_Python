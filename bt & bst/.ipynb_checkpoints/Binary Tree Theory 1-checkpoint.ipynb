{
 "cells": [
  {
   "cell_type": "markdown",
   "id": "11737b94-e05c-4bbb-b809-06666b509cdf",
   "metadata": {},
   "source": [
    "###### Read theory of BT and BST in Notes. In BST, elements should be unique.\n",
    "###### Later we will see, how BSTs are used to implement SETs in Python."
   ]
  },
  {
   "cell_type": "code",
   "execution_count": 35,
   "id": "5fafcdca-2093-4e08-abfa-d29d170f36c4",
   "metadata": {},
   "outputs": [],
   "source": [
    "class BinarySearchTreeNode :\n",
    "    \n",
    "    def __init__(self, data) :\n",
    "        self.data = data\n",
    "        self.left = None\n",
    "        self.right = None\n",
    "        \n",
    "    def add_child(self, data) :\n",
    "\n",
    "        if(self.data == data) :\n",
    "            return \"Key already exists\"\n",
    "        \n",
    "        elif(self.data < data) :\n",
    "            if self.right is None :\n",
    "                self.right = BinarySearchTreeNode(data)\n",
    "            else : \n",
    "                self.right.add_child(data)\n",
    "        else :\n",
    "            if self.left is None :\n",
    "                self.left = BinarySearchTreeNode(data)\n",
    "            else :\n",
    "                self.left.add_child(data)\n",
    "                \n",
    "    def in_order_traversal(self) :\n",
    "        elements = []\n",
    "        \n",
    "#         if(self.left is not None and self.right is not None) :\n",
    "#             self.left.in_order_traversal()\n",
    "#             print(self.data)\n",
    "#             self.right.in_order_traversal()\n",
    "            \n",
    "#         elif(self.left is None and self.right is not None) :\n",
    "#             # self.left.in_order_traversal()\n",
    "#             print(self.data)\n",
    "#             self.right.in_order_traversal()\n",
    "        \n",
    "#         elif(self.left is not None and self.right is None) :\n",
    "#             self.left.in_order_traversal()\n",
    "#             print(self.data)\n",
    "#             # self.right.in_order_traversal()        \n",
    "        \n",
    "#         else : # Leaf\n",
    "#             print(self.data)\n",
    "\n",
    "        if self.left is not None :\n",
    "            elements = elements + self.left.in_order_traversal()\n",
    "        \n",
    "        elements.append(self.data)\n",
    "        \n",
    "        \n",
    "        if self.right is not None :\n",
    "            elements = elements + self.right.in_order_traversal() \n",
    "            \n",
    "        return elements\n",
    "    \n",
    "    def search(self, val) :\n",
    "        if(val == self.data) :\n",
    "            return True\n",
    "        elif(val > self.data) :\n",
    "            return False if self.right is None else self.right.search(val) \n",
    "        elif(val < self.data) :\n",
    "            return False if self.left is None else self.left.search(val)"
   ]
  },
  {
   "cell_type": "code",
   "execution_count": 36,
   "id": "f365b9f1-0f4f-40fc-8dcd-ec4b216cb5fe",
   "metadata": {},
   "outputs": [],
   "source": [
    "def build_bst(elements) :\n",
    "    root = BinarySearchTreeNode(elements[0])\n",
    "    for item in elements[1:] :\n",
    "        root.add_child(item)    \n",
    "    return root\n",
    "\n",
    "nums = [10,7,8,12,23,44,17,16,88,79,11] # Even if we put 10,12 again, it will not be added. Just like SET.\n",
    "# We can also use Strings as elements.\n",
    "nums = [\"India\" , \"USA\" , \"Russia\", \"Srilanka\"]\n",
    "bst = build_bst(nums)"
   ]
  },
  {
   "cell_type": "code",
   "execution_count": 37,
   "id": "1df4872e-d82a-4d52-928d-099446152759",
   "metadata": {},
   "outputs": [
    {
     "data": {
      "text/plain": [
       "[7, 8, 10, 11, 12, 16, 17, 23, 44, 79, 88]"
      ]
     },
     "execution_count": 37,
     "metadata": {},
     "output_type": "execute_result"
    }
   ],
   "source": [
    "bst.in_order_traversal()"
   ]
  },
  {
   "cell_type": "code",
   "execution_count": 43,
   "id": "b2c96e7d-e6ce-467f-9343-f2314a1a1a25",
   "metadata": {},
   "outputs": [
    {
     "data": {
      "text/plain": [
       "True"
      ]
     },
     "execution_count": 43,
     "metadata": {},
     "output_type": "execute_result"
    }
   ],
   "source": [
    "bst.search(17)"
   ]
  },
  {
   "cell_type": "code",
   "execution_count": null,
   "id": "335db403-6902-4b9c-b2cf-bf0e55bbbec7",
   "metadata": {},
   "outputs": [],
   "source": []
  }
 ],
 "metadata": {
  "kernelspec": {
   "display_name": "Python 3 (ipykernel)",
   "language": "python",
   "name": "python3"
  },
  "language_info": {
   "codemirror_mode": {
    "name": "ipython",
    "version": 3
   },
   "file_extension": ".py",
   "mimetype": "text/x-python",
   "name": "python",
   "nbconvert_exporter": "python",
   "pygments_lexer": "ipython3",
   "version": "3.9.6"
  }
 },
 "nbformat": 4,
 "nbformat_minor": 5
}
