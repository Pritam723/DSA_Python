{
 "cells": [
  {
   "cell_type": "markdown",
   "id": "29840f13-08e2-417c-bc58-571faa03b1cc",
   "metadata": {},
   "source": [
    "0 * 10 + 5\n",
    "\n",
    "5 * 10 + 4\n",
    "\n",
    "54 * 10 + 3\n",
    "\n",
    "543 * 10 + 2\n",
    "\n",
    "5432 * 10 + 1\n",
    "\n",
    "This solution is fine, but there is another beautiful concept here."
   ]
  },
  {
   "cell_type": "code",
   "execution_count": 18,
   "id": "bc29b029-89f7-4549-bbc4-29717baf721b",
   "metadata": {},
   "outputs": [],
   "source": [
    "def isPalindrome(x):\n",
    "    \"\"\"\n",
    "    :type x: int\n",
    "    :rtype: bool\n",
    "    \"\"\"\n",
    "    original_number = x\n",
    "    if(x < 0) :\n",
    "        return False\n",
    "    \n",
    "    reverse_of_num = 0\n",
    "    while(x != 0) :\n",
    "        rem = x % 10\n",
    "        reverse_of_num = reverse_of_num * 10 + rem\n",
    "        x = x//10\n",
    "        # print(rem,x)\n",
    "        \n",
    "    return(reverse_of_num == original_number)"
   ]
  },
  {
   "cell_type": "code",
   "execution_count": 19,
   "id": "1d10f2ac-a05e-42fd-9a4e-04580bef3213",
   "metadata": {},
   "outputs": [
    {
     "data": {
      "text/plain": [
       "True"
      ]
     },
     "execution_count": 19,
     "metadata": {},
     "output_type": "execute_result"
    }
   ],
   "source": [
    "x = 123454321\n",
    "\n",
    "isPalindrome(x)"
   ]
  },
  {
   "cell_type": "markdown",
   "id": "ab1752f2-469b-484d-adbf-e65fb37b99ee",
   "metadata": {},
   "source": [
    "Solution 2 : The idea is, say my number is x = 12321. We maintain a reverse_of_num variable. We keep on constructing this reverse_of_number.\n",
    "At some point say x = 12  and r_o_n = 123. Basically r_o_n > x now. So, in this case just check till x > r_o_n"
   ]
  },
  {
   "cell_type": "markdown",
   "id": "ef3ced6b-b96e-441e-8ee0-fff4bbc5b9d3",
   "metadata": {},
   "source": [
    "If x has even length. x = 123321. So at some point x = 123, r_o_n = 321. So, r_o_n >= x now.\n",
    "So basically check till x > r_o_n. After that, if it is a palindrome,\n",
    "either x == r_o_n (x has even length)\n",
    "or x == r_o_n // 10 (x has odd length)\n",
    "If both are false, surely it was not palindrome at first place. Take example with 987654321, we will stop when x = 9876 and r_o_n = 12345. Surely both the checks will be fail."
   ]
  },
  {
   "cell_type": "markdown",
   "id": "1cf696b4-7bf3-4390-b490-e06de90b0113",
   "metadata": {},
   "source": [
    "But here I need to be careful about ending with 0 cases. Say 110. Solution 1 will be fine. But here, rev will have 01 i.e. basically 1, and x > rev violates. So we go to check, and we see x == rev. But in reality it is not palindrome. So add this case also.\n",
    "Check if x ends with zero, if yes and if x != 0 return false."
   ]
  },
  {
   "cell_type": "code",
   "execution_count": 38,
   "id": "007721f3-55af-44e7-83fb-fe3234bea8c9",
   "metadata": {},
   "outputs": [],
   "source": [
    "def isPalindrome_sol2(x):\n",
    "    \"\"\"\n",
    "    :type x: int\n",
    "    :rtype: bool\n",
    "    \"\"\"\n",
    "    if(x < 0 or (x and x%10 == 0)) :\n",
    "        return False\n",
    "    \n",
    "    rev = 0\n",
    "    while(x > rev) :\n",
    "        rev = rev * 10 + x % 10\n",
    "        x = x // 10\n",
    "    return(x == rev or x == rev // 10)"
   ]
  },
  {
   "cell_type": "code",
   "execution_count": 39,
   "id": "763789b2-1b68-4138-ac55-5a10d474c826",
   "metadata": {},
   "outputs": [
    {
     "data": {
      "text/plain": [
       "False"
      ]
     },
     "execution_count": 39,
     "metadata": {},
     "output_type": "execute_result"
    }
   ],
   "source": [
    "isPalindrome_sol2(110)"
   ]
  },
  {
   "cell_type": "code",
   "execution_count": null,
   "id": "b532d9d7-6c03-48fe-8f88-42f3525ae846",
   "metadata": {},
   "outputs": [],
   "source": []
  }
 ],
 "metadata": {
  "kernelspec": {
   "display_name": "Python 3 (ipykernel)",
   "language": "python",
   "name": "python3"
  },
  "language_info": {
   "codemirror_mode": {
    "name": "ipython",
    "version": 3
   },
   "file_extension": ".py",
   "mimetype": "text/x-python",
   "name": "python",
   "nbconvert_exporter": "python",
   "pygments_lexer": "ipython3",
   "version": "3.9.6"
  }
 },
 "nbformat": 4,
 "nbformat_minor": 5
}
