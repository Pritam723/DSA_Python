{
 "cells": [
  {
   "cell_type": "code",
   "execution_count": 6,
   "id": "6f7e196f-74bf-493c-b9a0-00bf3e590672",
   "metadata": {},
   "outputs": [
    {
     "name": "stdout",
     "output_type": "stream",
     "text": [
      "['__add__', '__bool__', '__class__', '__class_getitem__', '__contains__', '__copy__', '__delattr__', '__delitem__', '__dir__', '__doc__', '__eq__', '__format__', '__ge__', '__getattribute__', '__getitem__', '__gt__', '__hash__', '__iadd__', '__imul__', '__init__', '__init_subclass__', '__iter__', '__le__', '__len__', '__lt__', '__mul__', '__ne__', '__new__', '__reduce__', '__reduce_ex__', '__repr__', '__reversed__', '__rmul__', '__setattr__', '__setitem__', '__sizeof__', '__str__', '__subclasshook__', 'append', 'appendleft', 'clear', 'copy', 'count', 'extend', 'extendleft', 'index', 'insert', 'maxlen', 'pop', 'popleft', 'remove', 'reverse', 'rotate']\n"
     ]
    }
   ],
   "source": [
    "from collections import deque\n",
    "\n",
    "dqObj = deque()\n",
    "\n",
    "print(dir(dqObj))"
   ]
  },
  {
   "cell_type": "code",
   "execution_count": 7,
   "id": "f073105d-cd01-4492-b25a-1f4e99261d89",
   "metadata": {},
   "outputs": [],
   "source": [
    "# Here we will only need append (not appendleft)\n",
    "# Make own Stack class now"
   ]
  },
  {
   "cell_type": "code",
   "execution_count": 52,
   "id": "6c159027-e550-4eac-812c-b3dccdf11324",
   "metadata": {},
   "outputs": [],
   "source": [
    "class Stack :\n",
    "    def __init__(self) :\n",
    "        self.container = deque() # This is the container of the stack.\n",
    "    def is_empty(self) :\n",
    "        return(not len(self.container))\n",
    "    def push(self, val) :\n",
    "        self.container.append(val)\n",
    "    def pop(self) :\n",
    "        if(self.is_empty()) :\n",
    "            return None\n",
    "        else :\n",
    "            self.container.pop()\n",
    "    def peek(self) :\n",
    "        return self.container[-1]\n",
    "    def show(self) :\n",
    "        if(self.is_empty()) :\n",
    "            return \"Your stack is empty\"\n",
    "        else :\n",
    "            stack_string = \"--\".join([str(item) for item in self.container])\n",
    "            return f'First --> {stack_string} --> Last'\n"
   ]
  },
  {
   "cell_type": "code",
   "execution_count": 53,
   "id": "098deda0-5726-4676-89b8-face90ce4db4",
   "metadata": {},
   "outputs": [],
   "source": [
    "myStack = Stack()"
   ]
  },
  {
   "cell_type": "code",
   "execution_count": 54,
   "id": "acb80723-5fcb-421a-b569-9ef0e7cce496",
   "metadata": {},
   "outputs": [],
   "source": [
    "myStack.push(5)\n",
    "myStack.push(8)\n",
    "myStack.push(7)"
   ]
  },
  {
   "cell_type": "code",
   "execution_count": 55,
   "id": "a7bcb983-fc4b-4164-9429-049e1d423ca2",
   "metadata": {},
   "outputs": [
    {
     "data": {
      "text/plain": [
       "False"
      ]
     },
     "execution_count": 55,
     "metadata": {},
     "output_type": "execute_result"
    }
   ],
   "source": [
    "myStack.is_empty()"
   ]
  },
  {
   "cell_type": "code",
   "execution_count": 56,
   "id": "1d3c7e68-0245-454e-bf7b-9a7ff0e7d34b",
   "metadata": {},
   "outputs": [
    {
     "data": {
      "text/plain": [
       "'First --> 5--8--7 --> Last'"
      ]
     },
     "execution_count": 56,
     "metadata": {},
     "output_type": "execute_result"
    }
   ],
   "source": [
    "myStack.show()"
   ]
  },
  {
   "cell_type": "code",
   "execution_count": null,
   "id": "dad186b7-7378-488f-8ead-f66a4564229c",
   "metadata": {},
   "outputs": [],
   "source": []
  }
 ],
 "metadata": {
  "kernelspec": {
   "display_name": "Python 3 (ipykernel)",
   "language": "python",
   "name": "python3"
  },
  "language_info": {
   "codemirror_mode": {
    "name": "ipython",
    "version": 3
   },
   "file_extension": ".py",
   "mimetype": "text/x-python",
   "name": "python",
   "nbconvert_exporter": "python",
   "pygments_lexer": "ipython3",
   "version": "3.9.6"
  }
 },
 "nbformat": 4,
 "nbformat_minor": 5
}
