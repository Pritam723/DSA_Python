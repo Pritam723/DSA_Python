{
 "cells": [
  {
   "cell_type": "markdown",
   "id": "45a81ea3-ffa7-4f23-970e-612431cc6676",
   "metadata": {},
   "source": [
    "[GFG Reverse a Queue](https://practice.geeksforgeeks.org/problems/queue-reversal/1)"
   ]
  },
  {
   "cell_type": "code",
   "execution_count": null,
   "id": "9cc0d2d4-fb9e-4276-ae5b-3dedb15e8eca",
   "metadata": {},
   "outputs": [],
   "source": [
    "#User function Template for python3\n",
    "\n",
    "#Function to reverse the queue.\n",
    "def rev(q):\n",
    "    # add code here\n",
    "    # q.maxsize - 1 gives the size of the queue\n",
    "    \n",
    "    length = q.maxsize - 1\n",
    "    auxiliary_space = [0] * (length)\n",
    "    \n",
    "    i = length - 1\n",
    "    while(i >= 0) :\n",
    "        auxiliary_space[i] = q.get()\n",
    "        i = i-1\n",
    "    \n",
    "    newq = Queue(maxsize = length + 1)\n",
    "    for item in auxiliary_space :\n",
    "        newq.put(item)\n",
    "    \n",
    "    return(newq)\n",
    "        \n",
    "\n",
    "\n",
    "#{ \n",
    " # Driver Code Starts\n",
    "#Initial Template for Python 3\n",
    "\n",
    "from queue import Queue\n",
    "if __name__=='__main__':\n",
    "    t=int(input())\n",
    "    for i in range(t):\n",
    "        n=int(input())\n",
    "        a=list(map(int,input().split()))\n",
    "        q=Queue(maxsize=n+1)\n",
    "        for j in a:\n",
    "            q.put(j)\n",
    "        q=rev(q)\n",
    "        for i in range(0,n):\n",
    "            print(q.get(),end=\" \")\n",
    "        print()\n",
    "# } Driver Code Ends"
   ]
  },
  {
   "cell_type": "markdown",
   "id": "8f8e247d-5a1d-45db-bda2-69d3d30c632a",
   "metadata": {},
   "source": [
    "###### Or we can use recusrion. Actually, using recursion or stack is same thing only.\n",
    "###### Check Queues.ipynb for solution."
   ]
  }
 ],
 "metadata": {
  "kernelspec": {
   "display_name": "Python 3 (ipykernel)",
   "language": "python",
   "name": "python3"
  },
  "language_info": {
   "codemirror_mode": {
    "name": "ipython",
    "version": 3
   },
   "file_extension": ".py",
   "mimetype": "text/x-python",
   "name": "python",
   "nbconvert_exporter": "python",
   "pygments_lexer": "ipython3",
   "version": "3.9.6"
  }
 },
 "nbformat": 4,
 "nbformat_minor": 5
}
