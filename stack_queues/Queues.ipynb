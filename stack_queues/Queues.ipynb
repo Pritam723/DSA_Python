{
 "cells": [
  {
   "cell_type": "code",
   "execution_count": 2,
   "id": "ac5013e0-45a6-4c4b-8072-2cb066445a44",
   "metadata": {},
   "outputs": [],
   "source": [
    "from collections import deque"
   ]
  },
  {
   "cell_type": "code",
   "execution_count": 18,
   "id": "b241a805-4699-4cf3-a9c6-07d1c94d389e",
   "metadata": {},
   "outputs": [],
   "source": [
    "class Queue() :\n",
    "    def __init__(self) :\n",
    "        self.buffer = deque()\n",
    "    \n",
    "    def is_empty(self) :\n",
    "        return(not len(self.buffer))\n",
    "    def enqueue(self, val) :\n",
    "        self.buffer.appendleft(val)\n",
    "    def dequeue(self) :\n",
    "        if self.is_empty() :\n",
    "            return None\n",
    "        else :\n",
    "            return self.buffer.pop()\n",
    "    def peek(self) :\n",
    "        if self.is_empty() :\n",
    "            return None\n",
    "        else :\n",
    "            return self.buffer[len(self.buffer) - 1]\n",
    "    def show(self) :\n",
    "        if self.is_empty() :\n",
    "            return \"Queue is empty\"\n",
    "        else :\n",
    "            queue_str = \"--\".join([str(item) for item in self.buffer])\n",
    "            return f'last-->{queue_str}-->first'\n",
    "            "
   ]
  },
  {
   "cell_type": "code",
   "execution_count": 19,
   "id": "a3bcfff5-0163-46ca-8af0-c4b80034c533",
   "metadata": {},
   "outputs": [],
   "source": [
    "myQueue = Queue()"
   ]
  },
  {
   "cell_type": "code",
   "execution_count": 20,
   "id": "de61c87f-cfee-4c89-91e7-25d4e6d46ac7",
   "metadata": {},
   "outputs": [
    {
     "data": {
      "text/plain": [
       "'Queue is empty'"
      ]
     },
     "execution_count": 20,
     "metadata": {},
     "output_type": "execute_result"
    }
   ],
   "source": [
    "myQueue.show()"
   ]
  },
  {
   "cell_type": "code",
   "execution_count": 21,
   "id": "27555d27-a19c-405e-9e78-687be8acca33",
   "metadata": {},
   "outputs": [
    {
     "data": {
      "text/plain": [
       "True"
      ]
     },
     "execution_count": 21,
     "metadata": {},
     "output_type": "execute_result"
    }
   ],
   "source": [
    "myQueue.is_empty()"
   ]
  },
  {
   "cell_type": "code",
   "execution_count": 22,
   "id": "4ccec95a-d864-4ad8-b034-a71ad7dcabfd",
   "metadata": {},
   "outputs": [
    {
     "data": {
      "text/plain": [
       "'last-->15--10--5-->first'"
      ]
     },
     "execution_count": 22,
     "metadata": {},
     "output_type": "execute_result"
    }
   ],
   "source": [
    "myQueue.enqueue(5)\n",
    "myQueue.enqueue(10)\n",
    "myQueue.enqueue(15)\n",
    "\n",
    "myQueue.show()"
   ]
  },
  {
   "cell_type": "code",
   "execution_count": 23,
   "id": "60a91ff5-424d-4cd7-a3d9-3f7d04a049a5",
   "metadata": {},
   "outputs": [
    {
     "data": {
      "text/plain": [
       "'last-->15--10-->first'"
      ]
     },
     "execution_count": 23,
     "metadata": {},
     "output_type": "execute_result"
    }
   ],
   "source": [
    "myQueue.dequeue()\n",
    "myQueue.show()"
   ]
  },
  {
   "cell_type": "code",
   "execution_count": 24,
   "id": "3ea00e21-bb6a-4bb0-be86-73affead32b2",
   "metadata": {},
   "outputs": [
    {
     "data": {
      "text/plain": [
       "'Queue is empty'"
      ]
     },
     "execution_count": 24,
     "metadata": {},
     "output_type": "execute_result"
    }
   ],
   "source": [
    "myQueue.dequeue()\n",
    "myQueue.dequeue()\n",
    "myQueue.show()"
   ]
  },
  {
   "cell_type": "code",
   "execution_count": 25,
   "id": "b4072113-5168-44ef-9613-97cf0ed58bc0",
   "metadata": {},
   "outputs": [],
   "source": [
    "myQueue.dequeue()"
   ]
  },
  {
   "cell_type": "code",
   "execution_count": 26,
   "id": "3d71710f-fb17-4d10-b96b-3c7555f7e94e",
   "metadata": {},
   "outputs": [
    {
     "data": {
      "text/plain": [
       "'last-->150--100--50-->first'"
      ]
     },
     "execution_count": 26,
     "metadata": {},
     "output_type": "execute_result"
    }
   ],
   "source": [
    "myQueue.enqueue(50)\n",
    "myQueue.enqueue(100)\n",
    "myQueue.enqueue(150)\n",
    "myQueue.show()"
   ]
  },
  {
   "cell_type": "code",
   "execution_count": 27,
   "id": "d4c981d7-3bf5-4794-bcd2-1b9b8613a264",
   "metadata": {},
   "outputs": [
    {
     "data": {
      "text/plain": [
       "50"
      ]
     },
     "execution_count": 27,
     "metadata": {},
     "output_type": "execute_result"
    }
   ],
   "source": [
    "myQueue.peek()"
   ]
  },
  {
   "cell_type": "code",
   "execution_count": null,
   "id": "ea44d719-f137-45d2-8427-a32115038734",
   "metadata": {},
   "outputs": [],
   "source": []
  }
 ],
 "metadata": {
  "kernelspec": {
   "display_name": "Python 3 (ipykernel)",
   "language": "python",
   "name": "python3"
  },
  "language_info": {
   "codemirror_mode": {
    "name": "ipython",
    "version": 3
   },
   "file_extension": ".py",
   "mimetype": "text/x-python",
   "name": "python",
   "nbconvert_exporter": "python",
   "pygments_lexer": "ipython3",
   "version": "3.9.6"
  }
 },
 "nbformat": 4,
 "nbformat_minor": 5
}
