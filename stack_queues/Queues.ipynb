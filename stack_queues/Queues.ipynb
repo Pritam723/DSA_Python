{
 "cells": [
  {
   "cell_type": "code",
   "execution_count": 1,
   "id": "ac5013e0-45a6-4c4b-8072-2cb066445a44",
   "metadata": {},
   "outputs": [],
   "source": [
    "from collections import deque"
   ]
  },
  {
   "cell_type": "code",
   "execution_count": 6,
   "id": "b241a805-4699-4cf3-a9c6-07d1c94d389e",
   "metadata": {},
   "outputs": [],
   "source": [
    "class Queue() :\n",
    "    def __init__(self) :\n",
    "        self.buffer = deque()\n",
    "    \n",
    "    def is_empty(self) :\n",
    "        return(not len(self.buffer))\n",
    "    def enqueue(self, val) :\n",
    "        self.buffer.appendleft(val)\n",
    "    def dequeue(self) :\n",
    "        if self.is_empty() :\n",
    "            return None\n",
    "        else :\n",
    "            return self.buffer.pop()\n",
    "    def peek(self) :\n",
    "        if self.is_empty() :\n",
    "            return None\n",
    "        else :\n",
    "            return self.buffer[len(self.buffer) - 1]\n",
    "    def show(self) :\n",
    "        if self.is_empty() :\n",
    "            return \"Queue is empty\"\n",
    "        else :\n",
    "            queue_str = \"--\".join([str(item) for item in self.buffer])\n",
    "            return f'rear-->{queue_str}-->front'\n",
    "            "
   ]
  },
  {
   "cell_type": "code",
   "execution_count": 10,
   "id": "ea44d719-f137-45d2-8427-a32115038734",
   "metadata": {},
   "outputs": [],
   "source": [
    "def reverse_queue(q) :\n",
    "    if(q.is_empty()) :\n",
    "        return\n",
    "    else :\n",
    "        item = q.dequeue()\n",
    "        reverse_queue(q)\n",
    "        q.enqueue(item)\n",
    "        \n",
    "        # So, while calling we are saving the item and calling rev() again.\n",
    "        # While returning we are one by one pushing the items in the empty queue.\n",
    "        # So, in a way we are reversing it."
   ]
  },
  {
   "cell_type": "code",
   "execution_count": 11,
   "id": "82656756-be89-4b1f-8ac9-167e3c92febc",
   "metadata": {},
   "outputs": [
    {
     "data": {
      "text/plain": [
       "'rear-->300--200--100-->front'"
      ]
     },
     "execution_count": 11,
     "metadata": {},
     "output_type": "execute_result"
    }
   ],
   "source": [
    "my_queue = Queue()\n",
    "my_queue.enqueue(100)\n",
    "my_queue.enqueue(200)\n",
    "my_queue.enqueue(300)\n",
    "my_queue.show()"
   ]
  },
  {
   "cell_type": "code",
   "execution_count": 12,
   "id": "a53b60cb-5221-40e4-ac6a-d1c9bec9a6fb",
   "metadata": {},
   "outputs": [
    {
     "data": {
      "text/plain": [
       "'rear-->100--200--300-->front'"
      ]
     },
     "execution_count": 12,
     "metadata": {},
     "output_type": "execute_result"
    }
   ],
   "source": [
    "reverse_queue(my_queue)\n",
    "\n",
    "my_queue.show()"
   ]
  },
  {
   "cell_type": "code",
   "execution_count": null,
   "id": "aa574c82-e959-4384-b9c7-f8aafe91f752",
   "metadata": {},
   "outputs": [],
   "source": []
  }
 ],
 "metadata": {
  "kernelspec": {
   "display_name": "Python 3 (ipykernel)",
   "language": "python",
   "name": "python3"
  },
  "language_info": {
   "codemirror_mode": {
    "name": "ipython",
    "version": 3
   },
   "file_extension": ".py",
   "mimetype": "text/x-python",
   "name": "python",
   "nbconvert_exporter": "python",
   "pygments_lexer": "ipython3",
   "version": "3.9.6"
  }
 },
 "nbformat": 4,
 "nbformat_minor": 5
}
