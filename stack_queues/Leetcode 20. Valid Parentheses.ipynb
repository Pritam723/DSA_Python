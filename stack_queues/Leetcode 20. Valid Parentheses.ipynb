{
 "cells": [
  {
   "cell_type": "code",
   "execution_count": 12,
   "id": "32daa582-35ba-472d-815e-3e3cdef7eebb",
   "metadata": {},
   "outputs": [],
   "source": [
    "from collections import deque\n",
    "class Stack :\n",
    "    def __init__(self) :\n",
    "        self.container = deque() # This is the container of the stack.\n",
    "    def is_empty(self) :\n",
    "        return(not len(self.container))\n",
    "    def push(self, val) :\n",
    "        self.container.append(val)\n",
    "    def pop(self) :\n",
    "        if(self.is_empty()) :\n",
    "            return None\n",
    "        else :\n",
    "            return self.container.pop() # This must return\n",
    "    def peek(self) :\n",
    "        if(self.is_empty()) :\n",
    "            return None\n",
    "        else :\n",
    "            return self.container[-1]\n",
    "    def show(self) :\n",
    "        if(self.is_empty()) :\n",
    "            return \"Your stack is empty\"\n",
    "        else :\n",
    "            stack_string = \"--\".join([str(item) for item in self.container])\n",
    "            return f'First --> {stack_string} --> Last'\n"
   ]
  },
  {
   "cell_type": "code",
   "execution_count": 13,
   "id": "45a6f93e-ffbf-4a7c-8867-4558aed44a01",
   "metadata": {},
   "outputs": [],
   "source": [
    "def isValid(s):\n",
    "    \"\"\"\n",
    "    :type s: str\n",
    "    :rtype: bool\n",
    "    \"\"\"\n",
    "    myStack = Stack()\n",
    "    bracketMap = {        \n",
    "            ')' : '(',\n",
    "            '}' : '{',\n",
    "            ']' : '['      \n",
    "        }\n",
    "    \n",
    "    for index,item in enumerate(s) :\n",
    "\n",
    "        if(item in bracketMap) :\n",
    "\n",
    "            if(myStack.peek() != bracketMap[item]) :\n",
    "                return False\n",
    "            myStack.pop()\n",
    "        else :\n",
    "            myStack.push(item)\n",
    "\n",
    "    return myStack.is_empty()"
   ]
  },
  {
   "cell_type": "code",
   "execution_count": 14,
   "id": "5a0aa3f9-94fc-4bec-b90b-23ad55656c89",
   "metadata": {},
   "outputs": [
    {
     "data": {
      "text/plain": [
       "True"
      ]
     },
     "execution_count": 14,
     "metadata": {},
     "output_type": "execute_result"
    }
   ],
   "source": [
    "s = \"()\"\n",
    "isValid(s)"
   ]
  },
  {
   "cell_type": "code",
   "execution_count": null,
   "id": "6751be1a-8232-421a-8575-bc9a572b6cbd",
   "metadata": {},
   "outputs": [],
   "source": []
  }
 ],
 "metadata": {
  "kernelspec": {
   "display_name": "Python 3 (ipykernel)",
   "language": "python",
   "name": "python3"
  },
  "language_info": {
   "codemirror_mode": {
    "name": "ipython",
    "version": 3
   },
   "file_extension": ".py",
   "mimetype": "text/x-python",
   "name": "python",
   "nbconvert_exporter": "python",
   "pygments_lexer": "ipython3",
   "version": "3.9.6"
  }
 },
 "nbformat": 4,
 "nbformat_minor": 5
}
