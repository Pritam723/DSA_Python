{
 "cells": [
  {
   "cell_type": "markdown",
   "id": "f0af9d41-3f37-42ac-8f8a-fddab3b65a9e",
   "metadata": {},
   "source": [
    "[Leetcode 48. Rotate Image](https://leetcode.com/problems/rotate-image/)"
   ]
  },
  {
   "cell_type": "code",
   "execution_count": 8,
   "id": "781ae63b-a87e-422a-8b6d-dc32fe30aa84",
   "metadata": {},
   "outputs": [],
   "source": [
    "# So let's do one thing first. Let's try to transpose a square mtx without no extra space.\n",
    "\n",
    "def transpose_squaremtx(mtx) :\n",
    "    print(mtx)\n",
    "    \n",
    "    nrow = ncol = len(mtx)\n",
    "    r = 0\n",
    "    # c = 0\n",
    "    while(r < nrow) :\n",
    "        \n",
    "        # print(r)\n",
    "        \n",
    "        c = r + 1\n",
    "        while(c < ncol) :\n",
    "#             print(r,c)\n",
    "            \n",
    "            mtx[r][c],mtx[c][r] = mtx[c][r],mtx[r][c]\n",
    "            c = c + 1\n",
    "            \n",
    "            \n",
    "        r = r + 1\n",
    "    \n",
    "    return mtx\n",
    "    "
   ]
  },
  {
   "cell_type": "code",
   "execution_count": 14,
   "id": "c531ea29-271f-4c28-9e72-9a69e65a8acb",
   "metadata": {},
   "outputs": [
    {
     "name": "stdout",
     "output_type": "stream",
     "text": [
      "[[7, 8, 9], [4, 5, 6], [1, 2, 3]]\n",
      "[[7, 4, 1], [8, 5, 2], [9, 6, 3]]\n"
     ]
    }
   ],
   "source": [
    "# matrix = [[5,1,9,11],[2,4,8,10],[13,3,6,7],[15,14,12,16]]\n",
    "matrix = [[1,2,3],[4,5,6],[7,8,9]]\n",
    "\n",
    "i = 0\n",
    "j = len(matrix) - 1\n",
    "\n",
    "while(i < j) :\n",
    "#     print(i,j)\n",
    "\n",
    "    matrix[i], matrix[j] = matrix[j],matrix[i]\n",
    "\n",
    "    i = i + 1\n",
    "    j = j - 1\n",
    "    \n",
    "matrix = transpose_squaremtx(matrix)\n",
    "\n",
    "print(matrix)"
   ]
  },
  {
   "cell_type": "code",
   "execution_count": null,
   "id": "8bbfb8c8-4319-4e16-9de3-422d59d56002",
   "metadata": {},
   "outputs": [],
   "source": [
    "## So, this does our job.\n",
    "\n",
    "def rotate(mtx) :\n",
    "    i = 0\n",
    "    j = len(mtx) - 1\n",
    "\n",
    "    while(i < j) :\n",
    "    #     print(i,j)\n",
    "\n",
    "        mtx[i], mtx[j] = mtx[j], mtx[i]\n",
    "\n",
    "        i = i + 1\n",
    "        j = j - 1\n",
    "\n",
    "    mtx = transpose_squaremtx(mtx)\n",
    "\n",
    "    print(mtx)\n",
    "    "
   ]
  }
 ],
 "metadata": {
  "kernelspec": {
   "display_name": "Python 3 (ipykernel)",
   "language": "python",
   "name": "python3"
  },
  "language_info": {
   "codemirror_mode": {
    "name": "ipython",
    "version": 3
   },
   "file_extension": ".py",
   "mimetype": "text/x-python",
   "name": "python",
   "nbconvert_exporter": "python",
   "pygments_lexer": "ipython3",
   "version": "3.9.6"
  }
 },
 "nbformat": 4,
 "nbformat_minor": 5
}
