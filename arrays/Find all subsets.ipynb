{
 "cells": [
  {
   "cell_type": "code",
   "execution_count": 51,
   "id": "c612d3f2",
   "metadata": {},
   "outputs": [],
   "source": [
    "def subsets_of_given_size(numbers, n) :\n",
    "    \n",
    "    length = len(numbers)\n",
    "    subsets = []\n",
    "    \n",
    "    if((n == 0) or (n > length)) :\n",
    "        return [subsets]\n",
    "    \n",
    "    \n",
    "    \n",
    "    i = 0\n",
    "    \n",
    "    while(i <= length - n) :\n",
    "    \n",
    "        current_item = numbers[i]\n",
    "        \n",
    "        returned_subsets = subsets_of_given_size(numbers[i+1 : length], n-1)\n",
    "        \n",
    "#       (f'for {[current_item]} we get : {numbers[i+1 : length]}')\n",
    "\n",
    "        for returned_subset in returned_subsets :\n",
    "\n",
    "            subsets.append([current_item] + returned_subset)\n",
    "    \n",
    "    \n",
    "        i = i + 1\n",
    "\n",
    "    \n",
    "    return(subsets)"
   ]
  },
  {
   "cell_type": "code",
   "execution_count": 59,
   "id": "00cb14af",
   "metadata": {},
   "outputs": [
    {
     "name": "stdout",
     "output_type": "stream",
     "text": [
      "[[1, 2], [1, 3], [1, 4], [1, 5], [1, 6], [1, 7], [1, 8], [1, 9], [2, 3], [2, 4], [2, 5], [2, 6], [2, 7], [2, 8], [2, 9], [3, 4], [3, 5], [3, 6], [3, 7], [3, 8], [3, 9], [4, 5], [4, 6], [4, 7], [4, 8], [4, 9], [5, 6], [5, 7], [5, 8], [5, 9], [6, 7], [6, 8], [6, 9], [7, 8], [7, 9], [8, 9]]\n"
     ]
    }
   ],
   "source": [
    "numbers = [1,2,3,4,5,6,7,8,9]\n",
    "n = 2\n",
    "print(subsets_of_given_size(numbers, n))"
   ]
  },
  {
   "cell_type": "code",
   "execution_count": 29,
   "id": "9cb2780d",
   "metadata": {},
   "outputs": [
    {
     "name": "stdout",
     "output_type": "stream",
     "text": [
      "for [1] we get : [2, 3, 4]\n",
      "for [2] we get : [3, 4]\n",
      "for [3] we get : [4]\n",
      "for [4] we get : []\n"
     ]
    }
   ],
   "source": [
    "length = len(numbers)\n",
    "i = 0\n",
    "while(i < length) :\n",
    "    \n",
    "    current_item = numbers[i]\n",
    "    print(f'for {[current_item]} we get : {numbers[i+1 : length]}')\n",
    "    i = i + 1"
   ]
  },
  {
   "cell_type": "code",
   "execution_count": 31,
   "id": "5c5d7ea9",
   "metadata": {},
   "outputs": [
    {
     "data": {
      "text/plain": [
       "[[1], [2], [3], [4]]"
      ]
     },
     "execution_count": 31,
     "metadata": {},
     "output_type": "execute_result"
    }
   ],
   "source": [
    "x = [1,2,3,4]\n",
    "\n",
    "subsets = []\n",
    "\n",
    "for item in x :\n",
    "    subsets.append([item])\n",
    "subsets\n",
    "\n",
    "# So this is what I will get as return. To append 5 with it say,"
   ]
  },
  {
   "cell_type": "code",
   "execution_count": 35,
   "id": "e1fba4e5",
   "metadata": {},
   "outputs": [
    {
     "data": {
      "text/plain": [
       "[[5, 1], [5, 2], [5, 3], [5, 4]]"
      ]
     },
     "execution_count": 35,
     "metadata": {},
     "output_type": "execute_result"
    }
   ],
   "source": [
    "new_subsets = []\n",
    "\n",
    "for subset in subsets :\n",
    "    \n",
    "    new_subsets.append([5] + subset)\n",
    "    \n",
    "new_subsets"
   ]
  },
  {
   "cell_type": "code",
   "execution_count": 47,
   "id": "731c32fd",
   "metadata": {},
   "outputs": [
    {
     "name": "stdout",
     "output_type": "stream",
     "text": [
      "[[1, 2, 3], [1, 3, 4], [1, 4, 5]]\n"
     ]
    }
   ],
   "source": [
    "\n",
    "def add_to_sets(item, subsets) :\n",
    "    \n",
    "    new_subsets = []\n",
    "    \n",
    "    for ss in subsets :\n",
    "        new_subsets.append([item] + ss)\n",
    "        \n",
    "    return new_subsets\n",
    "\n",
    "item = 1\n",
    "returned_subsets = [[2,3], [3,4], [4,5]]\n",
    "\n",
    "subsets = add_to_sets(item, returned_subsets)\n",
    "\n",
    "print(subsets)\n"
   ]
  },
  {
   "cell_type": "code",
   "execution_count": null,
   "id": "4039382c",
   "metadata": {},
   "outputs": [],
   "source": []
  }
 ],
 "metadata": {
  "kernelspec": {
   "display_name": "Python 3 (ipykernel)",
   "language": "python",
   "name": "python3"
  },
  "language_info": {
   "codemirror_mode": {
    "name": "ipython",
    "version": 3
   },
   "file_extension": ".py",
   "mimetype": "text/x-python",
   "name": "python",
   "nbconvert_exporter": "python",
   "pygments_lexer": "ipython3",
   "version": "3.9.6"
  }
 },
 "nbformat": 4,
 "nbformat_minor": 5
}
