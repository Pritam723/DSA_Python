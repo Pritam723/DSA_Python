{
 "cells": [
  {
   "cell_type": "markdown",
   "id": "d80e9421",
   "metadata": {},
   "source": [
    "[Max Min](https://www.geeksforgeeks.org/maximum-and-minimum-in-an-array/)"
   ]
  },
  {
   "cell_type": "code",
   "execution_count": 25,
   "id": "ce38eb0e",
   "metadata": {},
   "outputs": [],
   "source": [
    "\n",
    "def findSum(A,N): \n",
    "    \n",
    "    curr_min = curr_max = A[0]\n",
    "    index = 1\n",
    "    while(index < N) :\n",
    "        \n",
    "        if(A[index] < curr_min) :\n",
    "            curr_min = A[index]\n",
    "\n",
    "        elif(A[index] > curr_max) :\n",
    "            curr_max = A[index]\n",
    "        else : \n",
    "            pass\n",
    "\n",
    "        index = index + 1\n",
    "        \n",
    "    return curr_max + curr_min"
   ]
  },
  {
   "cell_type": "code",
   "execution_count": 34,
   "id": "c36ac313",
   "metadata": {},
   "outputs": [
    {
     "name": "stdout",
     "output_type": "stream",
     "text": [
      "40\n"
     ]
    }
   ],
   "source": [
    "A = [1,3,46,7,8,3,2,-5,2,-6]\n",
    "N = 10\n",
    "\n",
    "print(findSum(A,N))"
   ]
  },
  {
   "cell_type": "code",
   "execution_count": null,
   "id": "0994e87e",
   "metadata": {},
   "outputs": [],
   "source": []
  },
  {
   "cell_type": "code",
   "execution_count": null,
   "id": "9460ed23",
   "metadata": {},
   "outputs": [],
   "source": []
  }
 ],
 "metadata": {
  "kernelspec": {
   "display_name": "Python 3 (ipykernel)",
   "language": "python",
   "name": "python3"
  },
  "language_info": {
   "codemirror_mode": {
    "name": "ipython",
    "version": 3
   },
   "file_extension": ".py",
   "mimetype": "text/x-python",
   "name": "python",
   "nbconvert_exporter": "python",
   "pygments_lexer": "ipython3",
   "version": "3.9.6"
  }
 },
 "nbformat": 4,
 "nbformat_minor": 5
}
