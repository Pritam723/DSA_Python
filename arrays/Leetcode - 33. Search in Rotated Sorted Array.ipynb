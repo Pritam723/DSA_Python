{
 "cells": [
  {
   "cell_type": "markdown",
   "id": "8e731a97",
   "metadata": {},
   "source": [
    "Input: nums = [4,5,6,7,0,1,2], target = 0\n",
    "Output: 4"
   ]
  },
  {
   "cell_type": "markdown",
   "id": "8ea5845d",
   "metadata": {},
   "source": [
    "[4,5,6,7,0,1,2]\n",
    "high = 6, low = 0, mid = 3. \n",
    " \n",
    "[4,5,6,7,0,1,2,3]\n",
    "high = 7, low = 0, mid = 3 or 4. Say we take 3.\n",
    "\n",
    "Say low at index = 3, high at index = 7, so mid should be 5. So, mid = (high + low)//2 always.\n"
   ]
  },
  {
   "cell_type": "code",
   "execution_count": 13,
   "id": "2213f5bf",
   "metadata": {},
   "outputs": [],
   "source": [
    "# def binary_search(A, target):\n",
    "#     \"\"\"\n",
    "#     :type nums: List[int]\n",
    "#     :type target: int\n",
    "#     :rtype: int\n",
    "#     \"\"\"\n",
    "# #     print(A)\n",
    "#     length = len(A)\n",
    "    \n",
    "#     high = length - 1\n",
    "#     low  = 0\n",
    "    \n",
    "#     mid = (high + low)//2\n",
    "    \n",
    "#     while(low <= high) :\n",
    "        \n",
    "#         if(target == A[mid]) :\n",
    "#             return mid\n",
    "#         elif(target < A[mid]) :\n",
    "#             high = mid - 1\n",
    "#             mid = (high + low)//2\n",
    "#         else :\n",
    "#             low = mid + 1\n",
    "#             mid = (high + low)//2\n",
    "            \n",
    "#     return \"Not Found\"\n",
    "\n",
    "    \n",
    "    "
   ]
  },
  {
   "cell_type": "code",
   "execution_count": 68,
   "id": "90ac6b1d",
   "metadata": {},
   "outputs": [],
   "source": [
    "def search(A, target):\n",
    "    \"\"\"\n",
    "    :type nums: List[int]\n",
    "    :type target: int\n",
    "    :rtype: int\n",
    "    \"\"\"\n",
    "#     print(A)\n",
    "    length = len(A)\n",
    "    \n",
    "    high = length - 1\n",
    "    low  = 0\n",
    "    \n",
    "    mid = (high + low)//2\n",
    "    \n",
    "    mid = low + (high – low)//2;\n",
    "\n",
    "\n",
    "    \n",
    "#     if(length == 1) :\n",
    "#         return 0 if target == A[0] else -1\n",
    "         \n",
    "    \n",
    "    \n",
    "    while(low <= high) :\n",
    "        \n",
    "        if(target == A[mid]) :\n",
    "            return mid\n",
    "            \n",
    "        # now here we need to decide which array to search the target in.\n",
    "        # First see which array is sorted(In ASC), left one or right one. Once we find that.\n",
    "        # Then check whether in the sorted array range, the target falls. \n",
    "        # If yes, search in the sorted array : change low,,high,mid accordingly.\n",
    "        # Else, search in unsorted array : change low,,high,mid accordingly.\n",
    "\n",
    "        elif((mid-1 >= low) and (A[mid - 1] >= A[low])) :\n",
    "                \n",
    "            # It means that the left part is sorted, right part is not. So check if the target falls in the left part.\n",
    "            if(target >= A[low] and target <= A[mid - 1]) :\n",
    "                high = mid - 1\n",
    "            else :\n",
    "                low = mid + 1\n",
    "                \n",
    "                    \n",
    "        elif((mid+1 <= high) and (A[mid + 1] <= A[high])):\n",
    "            # It means that the right part is sorted, left part is not.\n",
    "\n",
    "            if(target >= A[mid + 1] and target <= A[high]) :\n",
    "                low = mid + 1\n",
    "            else :\n",
    "                high = mid - 1\n",
    "        else :\n",
    "            return -1\n",
    "        \n",
    "        mid = (high + low)//2\n",
    "            \n",
    "    return -1"
   ]
  },
  {
   "cell_type": "code",
   "execution_count": 69,
   "id": "9d361686",
   "metadata": {},
   "outputs": [],
   "source": [
    "nums = [1,3]\n",
    "target = 0\n",
    "\n",
    "search(nums, target)\n"
   ]
  },
  {
   "cell_type": "code",
   "execution_count": 55,
   "id": "da237af1",
   "metadata": {},
   "outputs": [],
   "source": [
    "# there is never a problem with high = mid -1 or low = mid + 1 \n",
    "# because even if it violates while (low <= high) wil take care of it.\n",
    "# problem is with the index checking. A[index] can go out of range. Ex. When low = mid + 1 and length = 1 only."
   ]
  },
  {
   "cell_type": "code",
   "execution_count": null,
   "id": "a8102a5e",
   "metadata": {},
   "outputs": [],
   "source": []
  }
 ],
 "metadata": {
  "kernelspec": {
   "display_name": "Python 3 (ipykernel)",
   "language": "python",
   "name": "python3"
  },
  "language_info": {
   "codemirror_mode": {
    "name": "ipython",
    "version": 3
   },
   "file_extension": ".py",
   "mimetype": "text/x-python",
   "name": "python",
   "nbconvert_exporter": "python",
   "pygments_lexer": "ipython3",
   "version": "3.9.6"
  }
 },
 "nbformat": 4,
 "nbformat_minor": 5
}
