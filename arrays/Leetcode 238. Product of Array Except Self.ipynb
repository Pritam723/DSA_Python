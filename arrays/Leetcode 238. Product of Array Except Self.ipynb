{
 "cells": [
  {
   "cell_type": "markdown",
   "id": "8e30d30e-842c-4bb8-bc14-5315873b7b69",
   "metadata": {},
   "source": [
    "[238. Product of Array Except Self](https://leetcode.com/problems/product-of-array-except-self/)"
   ]
  },
  {
   "cell_type": "markdown",
   "id": "7a08684a-2e27-4e76-a846-83a073548a5e",
   "metadata": {},
   "source": [
    "The idea is to do it in 2 pass.\n",
    "First go left to right.\n",
    "Then go right to left."
   ]
  },
  {
   "cell_type": "code",
   "execution_count": 3,
   "id": "e1e8e0fb-588f-4047-9e97-9a278605b594",
   "metadata": {},
   "outputs": [],
   "source": [
    "def productExceptSelf(nums):\n",
    "    \"\"\"\n",
    "    :type nums: List[int]\n",
    "    :rtype: List[int]\n",
    "    \"\"\"\n",
    "    length = len(nums)\n",
    "    \n",
    "    L2R_productTillNow = 1\n",
    "    R2L_productTillNow = 1\n",
    "    \n",
    "    answer = [1] * length\n",
    "    i = 0\n",
    "    while(i < length) :\n",
    "        answer[i] = L2R_productTillNow\n",
    "        L2R_productTillNow = L2R_productTillNow * nums[i]\n",
    "        i = i + 1\n",
    "        \n",
    "    # After the first loop i = length and all element of answer[] contails product of it's left elements.\n",
    "    i = length - 1\n",
    "    while(i >= 0) :\n",
    "        answer[i] = R2L_productTillNow * answer[i]\n",
    "        R2L_productTillNow = R2L_productTillNow * nums[i]\n",
    "        i = i - 1\n",
    "        \n",
    "    return answer"
   ]
  },
  {
   "cell_type": "code",
   "execution_count": 6,
   "id": "cc7a2322-67a4-4dcc-8b98-8bf558533d55",
   "metadata": {},
   "outputs": [],
   "source": [
    "# nums = [-1,1,0,-3,3]\n",
    "nums = [-1,2,3,-4,5]\n",
    "\n",
    "result = productExceptSelf(nums)\n",
    "# Output: [0,0,9,0,0]"
   ]
  },
  {
   "cell_type": "code",
   "execution_count": 7,
   "id": "d388910e-a141-40d0-82aa-f03777f4cda2",
   "metadata": {},
   "outputs": [
    {
     "data": {
      "text/plain": [
       "[-120, 60, 40, -30, 24]"
      ]
     },
     "execution_count": 7,
     "metadata": {},
     "output_type": "execute_result"
    }
   ],
   "source": [
    "result"
   ]
  },
  {
   "cell_type": "code",
   "execution_count": null,
   "id": "759efe3c-398c-4c7f-bf24-c3df7e3548bd",
   "metadata": {},
   "outputs": [],
   "source": []
  }
 ],
 "metadata": {
  "kernelspec": {
   "display_name": "Python 3 (ipykernel)",
   "language": "python",
   "name": "python3"
  },
  "language_info": {
   "codemirror_mode": {
    "name": "ipython",
    "version": 3
   },
   "file_extension": ".py",
   "mimetype": "text/x-python",
   "name": "python",
   "nbconvert_exporter": "python",
   "pygments_lexer": "ipython3",
   "version": "3.9.6"
  }
 },
 "nbformat": 4,
 "nbformat_minor": 5
}
