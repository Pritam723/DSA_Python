{
 "cells": [
  {
   "cell_type": "code",
   "execution_count": 35,
   "id": "4091ad7c",
   "metadata": {},
   "outputs": [],
   "source": [
    "def findMinDiff(A,N,M):\n",
    "    \n",
    "    A.sort()\n",
    "    \n",
    "    mn = A[M - 1] - A[0]\n",
    "    \n",
    "    i = 1\n",
    "    \n",
    "    while(i <= N - M) :\n",
    "        print(\"\\n\")\n",
    "        print(i, i + M - 1)\n",
    "        \n",
    "        diff = A[i + M - 1] - A[i]\n",
    "        if(diff < mn) :\n",
    "            mn = diff\n",
    "        \n",
    "        i = i + 1\n",
    "        \n",
    "    return mn"
   ]
  },
  {
   "cell_type": "code",
   "execution_count": 36,
   "id": "1fa92307",
   "metadata": {},
   "outputs": [
    {
     "name": "stdout",
     "output_type": "stream",
     "text": [
      "\n",
      "\n",
      "1 3\n",
      "\n",
      "\n",
      "2 4\n",
      "\n",
      "\n",
      "3 5\n",
      "\n",
      "\n",
      "4 6\n"
     ]
    },
    {
     "data": {
      "text/plain": [
       "2"
      ]
     },
     "execution_count": 36,
     "metadata": {},
     "output_type": "execute_result"
    }
   ],
   "source": [
    "nums = [7, 3, 2, 4, 9, 12, 56]\n",
    "\n",
    "M = 3\n",
    "\n",
    "findMinDiff(nums, len(nums), M)"
   ]
  },
  {
   "cell_type": "code",
   "execution_count": null,
   "id": "d2f084f0",
   "metadata": {},
   "outputs": [],
   "source": [
    "'''\n",
    "check from i = 0 to i = 2\n",
    "then from i = 1 to  i = 3\n",
    "then from i = 2 to i = 4\n",
    "till\n",
    "i = 4 to i = 6\n",
    "\n",
    "so check till i + m - 1 <= length - 1\n",
    "or i + m <= length\n",
    "or i <= length - m\n",
    "'''"
   ]
  },
  {
   "cell_type": "code",
   "execution_count": null,
   "id": "7adb71df",
   "metadata": {},
   "outputs": [],
   "source": []
  }
 ],
 "metadata": {
  "kernelspec": {
   "display_name": "Python 3 (ipykernel)",
   "language": "python",
   "name": "python3"
  },
  "language_info": {
   "codemirror_mode": {
    "name": "ipython",
    "version": 3
   },
   "file_extension": ".py",
   "mimetype": "text/x-python",
   "name": "python",
   "nbconvert_exporter": "python",
   "pygments_lexer": "ipython3",
   "version": "3.10.5"
  }
 },
 "nbformat": 4,
 "nbformat_minor": 5
}
