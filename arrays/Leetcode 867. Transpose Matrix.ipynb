{
 "cells": [
  {
   "cell_type": "markdown",
   "id": "6104c677-f007-4600-a2f1-a117db51815e",
   "metadata": {},
   "source": [
    "[Leetcode 867. Transpose Matrix](https://leetcode.com/problems/transpose-matrix/)"
   ]
  },
  {
   "cell_type": "code",
   "execution_count": 5,
   "id": "52cd845d-1bc4-47bd-ba3f-141fb5f71361",
   "metadata": {},
   "outputs": [
    {
     "name": "stdout",
     "output_type": "stream",
     "text": [
      "3 4\n"
     ]
    }
   ],
   "source": [
    "arr = [\n",
    "       [1,2,3,4],\n",
    "       [5,6,7,8],\n",
    "       [9,10,11,12]\n",
    "      ]\n",
    "\n",
    "\n",
    "nrow = len(arr)\n",
    "ncol = len(arr[0])\n",
    "\n",
    "print(nrow,ncol)"
   ]
  },
  {
   "cell_type": "code",
   "execution_count": 8,
   "id": "d0a73f26-7219-440a-b16f-ab70f5971cc5",
   "metadata": {},
   "outputs": [
    {
     "name": "stdout",
     "output_type": "stream",
     "text": [
      "1\n",
      "5\n",
      "9\n",
      "____\n",
      "2\n",
      "6\n",
      "10\n",
      "____\n",
      "3\n",
      "7\n",
      "11\n",
      "____\n",
      "4\n",
      "8\n",
      "12\n",
      "____\n"
     ]
    }
   ],
   "source": [
    "# I want arr[0][0], arr[1][0], arr[2][0] in 1st Iteration\n",
    "# I want arr[0][1], arr[1][1], arr[2][1] in 2nd Iteration\n",
    "# ...\n",
    "#I want arr[0][3], arr[1][3], arr[2][3] in 4th Iteration.\n",
    "# So we total want ncol iteration and inside each such iteration I want nrow iteration.\n",
    "\n",
    "\n",
    "for j in range(ncol) :\n",
    "    for i in range(nrow) :\n",
    "        print(arr[i][j])\n",
    "    print(\"____\")\n",
    "        "
   ]
  },
  {
   "cell_type": "markdown",
   "id": "7e46b215-aa5b-4695-988a-f60fc2fbf2cd",
   "metadata": {},
   "source": [
    "###### Now in the transpose mtx, we will have 4 rows and 3 cols. So in first row I want [1,5,9], 2nd row I want [2,6,10] and so on till 4th row. So # Cols = 3 in Transpose mtx."
   ]
  },
  {
   "cell_type": "code",
   "execution_count": 12,
   "id": "ca33eddb-8ed2-461a-a0a0-6a0e6e5311f6",
   "metadata": {},
   "outputs": [],
   "source": [
    "def transpose(mtx) :\n",
    "        \n",
    "    nrow = len(mtx)\n",
    "    ncol = len(mtx[0])\n",
    "    transpose_mtx = [[]]*ncol\n",
    "\n",
    "    \n",
    "    for j in range(ncol) : # Will run 4 times (0,1,2,3)\n",
    "        \n",
    "        row = []\n",
    "        \n",
    "        for i in range(nrow) : # Will run 3 times (0,1,2)\n",
    "            row.append(mtx[i][j])\n",
    "        \n",
    "        transpose_mtx[j] = row\n",
    "    \n",
    "    return transpose_mtx\n",
    "    "
   ]
  },
  {
   "cell_type": "code",
   "execution_count": 13,
   "id": "4bdd1154-9c03-4faa-b7e1-802357ed9bf4",
   "metadata": {},
   "outputs": [
    {
     "data": {
      "text/plain": [
       "[[1, 5, 9], [2, 6, 10], [3, 7, 11], [4, 8, 12]]"
      ]
     },
     "execution_count": 13,
     "metadata": {},
     "output_type": "execute_result"
    }
   ],
   "source": [
    "mtx = [\n",
    "       [1,2,3,4],\n",
    "       [5,6,7,8],\n",
    "       [9,10,11,12]\n",
    "      ]\n",
    "\n",
    "transpose(mtx)"
   ]
  },
  {
   "cell_type": "markdown",
   "id": "3718d38d-9675-42ce-ba8b-cf1a2d7b60b9",
   "metadata": {},
   "source": [
    "###### Learn Zip and Unzip"
   ]
  },
  {
   "cell_type": "code",
   "execution_count": 17,
   "id": "3c1144df-b18b-45ca-9119-f54a3f20febe",
   "metadata": {},
   "outputs": [
    {
     "data": {
      "text/plain": [
       "[(1, 'a'), (2, 'b'), (3, 'c'), (4, 'd')]"
      ]
     },
     "execution_count": 17,
     "metadata": {},
     "output_type": "execute_result"
    }
   ],
   "source": [
    "lista = [1,2,3,4]\n",
    "listb = ['a','b','c','d']\n",
    "\n",
    "newList = list(zip(lista, listb))\n",
    "newList"
   ]
  },
  {
   "cell_type": "code",
   "execution_count": 18,
   "id": "8ed1dfa0-90b2-4f45-b436-e9b82cce9762",
   "metadata": {},
   "outputs": [],
   "source": [
    "unZipped = list(zip(*newList))"
   ]
  },
  {
   "cell_type": "code",
   "execution_count": 19,
   "id": "d794a07b-deb2-4bb6-a890-7807c4c68262",
   "metadata": {},
   "outputs": [
    {
     "data": {
      "text/plain": [
       "[(1, 2, 3, 4), ('a', 'b', 'c', 'd')]"
      ]
     },
     "execution_count": 19,
     "metadata": {},
     "output_type": "execute_result"
    }
   ],
   "source": [
    "unZipped"
   ]
  },
  {
   "cell_type": "markdown",
   "id": "d979e1d2-08f6-42d0-8fea-0112980a3898",
   "metadata": {},
   "source": [
    "###### So for list of four 2-Tuples, it retuns list of two 4-tuples. That's what we want. "
   ]
  },
  {
   "cell_type": "markdown",
   "id": "533b5fae-dba0-4b1c-9278-bbc3ca0ef284",
   "metadata": {},
   "source": [
    "###### So, now in our case the mtx looks like \n",
    "arr = [\n",
    "       [1,2,3,4],\n",
    "       [5,6,7,8],\n",
    "       [9,10,11,12]\n",
    "      ]"
   ]
  },
  {
   "cell_type": "code",
   "execution_count": 24,
   "id": "1287c050-7ab4-4630-9ff8-63d8a955eacc",
   "metadata": {},
   "outputs": [
    {
     "data": {
      "text/plain": [
       "[(1, 5, 9), (2, 6, 10), (3, 7, 11), (4, 8, 12)]"
      ]
     },
     "execution_count": 24,
     "metadata": {},
     "output_type": "execute_result"
    }
   ],
   "source": [
    "# So if you do the following, our job is done. Although it is now list of lists. It is list of tuples.\n",
    "\n",
    "transpose_mtx = list(zip(*arr))\n",
    "\n",
    "transpose_mtx"
   ]
  },
  {
   "cell_type": "code",
   "execution_count": null,
   "id": "ec43fda5-9a46-4b08-8ff4-e743488bf92a",
   "metadata": {},
   "outputs": [],
   "source": []
  }
 ],
 "metadata": {
  "kernelspec": {
   "display_name": "Python 3 (ipykernel)",
   "language": "python",
   "name": "python3"
  },
  "language_info": {
   "codemirror_mode": {
    "name": "ipython",
    "version": 3
   },
   "file_extension": ".py",
   "mimetype": "text/x-python",
   "name": "python",
   "nbconvert_exporter": "python",
   "pygments_lexer": "ipython3",
   "version": "3.9.6"
  }
 },
 "nbformat": 4,
 "nbformat_minor": 5
}
