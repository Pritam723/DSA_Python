{
 "cells": [
  {
   "cell_type": "markdown",
   "id": "2bba5b56-9023-4c73-9402-bdb8bcecd49d",
   "metadata": {},
   "source": [
    "[Leetcode 15. 3Sum](https://leetcode.com/problems/3sum/)"
   ]
  },
  {
   "cell_type": "markdown",
   "id": "6c71c679-7adc-4ae6-892c-ab84b584d986",
   "metadata": {},
   "source": [
    "[Also see this before doing the problem](https://practice.geeksforgeeks.org/problems/triplet-sum-in-array-1587115621/1)"
   ]
  },
  {
   "cell_type": "code",
   "execution_count": 1,
   "id": "0d57e571-15c4-4ad0-9efd-dff702dd316e",
   "metadata": {},
   "outputs": [],
   "source": [
    "# First we will see two sum problem using Two pointer method. See, if array is not sorted then using a Hashmap is a better idea for 2-Sum Problem.\n",
    "# If array is sorted, T(n) is same using Hashmap or 2-pointer method.\n",
    "\n",
    "# But for 3-Sum, using Hashmap it takes O(n^2), and using 2-Pointer, it takes O(nlogn) + O(n^2). So, it is same."
   ]
  },
  {
   "cell_type": "code",
   "execution_count": 23,
   "id": "a93e09f4-42ff-4dba-b9a2-a33195414bf0",
   "metadata": {},
   "outputs": [],
   "source": [
    "def twosum(sorted_arr, n, val) :\n",
    "    low = 0\n",
    "    high = n - 1\n",
    "    \n",
    "    while(low < high) :\n",
    "        add = sorted_arr[low] + sorted_arr[high]\n",
    "        if(add == val) :\n",
    "            return True\n",
    "        elif(add > val) :\n",
    "            high = high - 1\n",
    "        else :\n",
    "            low = low + 1\n",
    "    return False\n",
    "    "
   ]
  },
  {
   "cell_type": "code",
   "execution_count": 24,
   "id": "fa724c3f-15ef-4903-9059-07b5f103e10e",
   "metadata": {},
   "outputs": [
    {
     "name": "stdout",
     "output_type": "stream",
     "text": [
      "True\n"
     ]
    }
   ],
   "source": [
    "nums = [1,6,7,8,9]\n",
    "print(twosum(nums,len(nums),15))"
   ]
  },
  {
   "cell_type": "code",
   "execution_count": 37,
   "id": "a0df8eff-5378-41e7-9356-f96536908aea",
   "metadata": {},
   "outputs": [],
   "source": [
    "# The idea is to use the towsum() function, keeping one item as constant. And check for twosum(partofarray, val-constantval)\n",
    "def threesum(sorted_arr,n, val) :\n",
    "    \n",
    "    print(sorted_arr)\n",
    "    i = 0\n",
    "    while(i < n) :\n",
    "        constant = sorted_arr[i]\n",
    "        isTwoSum = twosum(sorted_arr[i+1 : n], n-i-1, val - constant)\n",
    "        if(isTwoSum) :\n",
    "            return True\n",
    "    else :\n",
    "        return False\n",
    "        "
   ]
  },
  {
   "cell_type": "code",
   "execution_count": 39,
   "id": "a0a3ead0-4640-49bf-b8fc-7d57751a5c4b",
   "metadata": {},
   "outputs": [
    {
     "name": "stdout",
     "output_type": "stream",
     "text": [
      "[1, 2, 3, 4, 6]\n"
     ]
    },
    {
     "data": {
      "text/plain": [
       "True"
      ]
     },
     "execution_count": 39,
     "metadata": {},
     "output_type": "execute_result"
    }
   ],
   "source": [
    "X = 10\n",
    "arr = [1,2,4,3,6]\n",
    "arr.sort()\n",
    "threesum(arr, len(arr), X)"
   ]
  },
  {
   "cell_type": "markdown",
   "id": "5277cc6b-d25d-4853-ab1d-f0d27a16f5f9",
   "metadata": {},
   "source": [
    "Given an integer array nums, return all the triplets [nums[i], nums[j], nums[k]] such that i != j, i != k, and j != k, and nums[i] + nums[j] + nums[k] == 0.\n",
    "\n",
    "Notice that the solution set must not contain duplicate triplets."
   ]
  },
  {
   "cell_type": "code",
   "execution_count": 3,
   "id": "2c9c35cb-a948-4038-beec-eef5e65d8dc4",
   "metadata": {},
   "outputs": [],
   "source": [
    "# Input: nums = [-1,0,1,2,-1,-4], so sorted array is [-4,-1,-1,0,1,2]\n",
    "# Output: [[-1,-1,2],[-1,0,1]]\n",
    "# Explanation: \n",
    "# nums[0] + nums[1] + nums[2] = (-1) + 0 + 1 = 0.\n",
    "# nums[1] + nums[2] + nums[4] = 0 + 1 + (-1) = 0.\n",
    "# nums[0] + nums[3] + nums[4] = (-1) + 2 + (-1) = 0.\n",
    "# The distinct triplets are [-1,0,1] and [-1,-1,2].\n",
    "# Notice that the order of the output and the order of the triplets does not matter."
   ]
  },
  {
   "cell_type": "code",
   "execution_count": 45,
   "id": "f0ffa671-1bba-4dbd-8d82-c02acdee9900",
   "metadata": {},
   "outputs": [],
   "source": [
    "# So we need to modify the functions a little-bit.\n",
    "# Let's modify the 2-Sum method first, so that it returns all possible sets.\n",
    "# Intuition is that if low doesn't match, surely the previous high is also useless\n",
    "\n",
    "def twosum_modified(sorted_arr, n, val) :\n",
    "    low = 0\n",
    "    high = n - 1\n",
    "    twoSumSets = []\n",
    "    lastSetAdded = None\n",
    "    while(low < high) :\n",
    "        add = sorted_arr[low] + sorted_arr[high]\n",
    "        \n",
    "        if(add == val) :\n",
    "            if((lastSetAdded is not None) and (lastSetAdded[0] == sorted_arr[low])) : # No need to check lastSetAdded[0] == sorted_arr[high]\n",
    "                pass\n",
    "            else :\n",
    "                lastSetAdded = [sorted_arr[low], sorted_arr[high]]\n",
    "                twoSumSets.append([-val,sorted_arr[low], sorted_arr[high]])\n",
    "            \n",
    "            low = low + 1\n",
    "            high = high - 1\n",
    "            \n",
    "            \n",
    "        elif(add > val) :\n",
    "            high = high - 1\n",
    "        else :\n",
    "            low = low + 1\n",
    "    return twoSumSets\n",
    "\n"
   ]
  },
  {
   "cell_type": "code",
   "execution_count": 46,
   "id": "9e0ae85b-1d5d-4c31-a7b3-24cde6c2b39b",
   "metadata": {},
   "outputs": [],
   "source": [
    "# Now here for an element we will always get unique 2-sum sets. Now here let's maintain a variable which is lastVisited.\n",
    "# Say my sorted array is [1,2,3,3,4,5,6,7]. Now when I go to 3, I have lastVisited = 2, so no issue. No with 3 I get some sets of 2-Sum.\n",
    "# Those sets may include the next 3 for sure. So, while checking the next 3 in 3-sum, we can simple skip it.\n",
    "\n",
    "def threesum_modified(sorted_arr,n, val) :\n",
    "    \n",
    "    print(sorted_arr)\n",
    "    i = 0\n",
    "    lastVisited = None\n",
    "    threeSumSets = []\n",
    "    while(i < n) :\n",
    "#         print(lastVisited == sorted_arr[i])\n",
    "        if((lastVisited is not None) and (lastVisited == sorted_arr[i])) :\n",
    "            print(\"Works\")\n",
    "            pass\n",
    "            \n",
    "        else :\n",
    "            print(\"Else\")\n",
    "            constant = sorted_arr[i]\n",
    "            lastVisited = constant\n",
    "            threeSumSets = threeSumSets + twosum_modified(sorted_arr[i+1 : n], n-i-1, val - constant)\n",
    "            #Now another idea is, since we are checking for 0 - constant in this prblm, simply return the 3-tuple from twosum()\n",
    "        i = i + 1\n",
    "    return threeSumSets"
   ]
  },
  {
   "cell_type": "code",
   "execution_count": 47,
   "id": "0cf897a5-44f9-4525-983c-f35b7e0b07c6",
   "metadata": {},
   "outputs": [
    {
     "name": "stdout",
     "output_type": "stream",
     "text": [
      "[0, 0, 0, 0]\n",
      "Else\n",
      "Works\n",
      "Works\n",
      "Works\n"
     ]
    },
    {
     "data": {
      "text/plain": [
       "[[0, 0, 0]]"
      ]
     },
     "execution_count": 47,
     "metadata": {},
     "output_type": "execute_result"
    }
   ],
   "source": [
    "nums = [0,0,0,0]\n",
    "nums.sort()\n",
    "threesum_modified(nums, len(nums), 0)"
   ]
  },
  {
   "cell_type": "markdown",
   "id": "a9e48b19-cc4d-45e0-961f-a10388d6b1de",
   "metadata": {},
   "source": [
    "Note.if((lastVisited is not None) and (lastVisited == sorted_arr[i])) can't be written as         \n",
    "if(lastVisited and (lastVisited == sorted_arr[i])) :\n",
    "Because if lastVisited = 0, then if(lastVisited) and if((lastVisited is not None)) is different. So, take example [0,0,0,0], it may fail.\n",
    "*****************\n",
    "\n"
   ]
  },
  {
   "cell_type": "code",
   "execution_count": null,
   "id": "529aaef9-b1a0-4f76-88cd-19eb62ef6e33",
   "metadata": {},
   "outputs": [],
   "source": []
  }
 ],
 "metadata": {
  "kernelspec": {
   "display_name": "Python 3 (ipykernel)",
   "language": "python",
   "name": "python3"
  },
  "language_info": {
   "codemirror_mode": {
    "name": "ipython",
    "version": 3
   },
   "file_extension": ".py",
   "mimetype": "text/x-python",
   "name": "python",
   "nbconvert_exporter": "python",
   "pygments_lexer": "ipython3",
   "version": "3.9.6"
  }
 },
 "nbformat": 4,
 "nbformat_minor": 5
}
