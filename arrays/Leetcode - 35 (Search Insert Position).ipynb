{
 "cells": [
  {
   "cell_type": "markdown",
   "id": "991422b7",
   "metadata": {},
   "source": [
    "[Leetcode - 35 (Search Insert Position)](https://leetcode.com/problems/search-insert-position/)"
   ]
  },
  {
   "cell_type": "code",
   "execution_count": 6,
   "id": "e940843e",
   "metadata": {},
   "outputs": [],
   "source": [
    "def searchInsert(nums, target):\n",
    "    \"\"\"\n",
    "    :type nums: List[int]\n",
    "    :type target: int\n",
    "    :rtype: int\n",
    "    \"\"\"\n",
    "\n",
    "    # length = len(nums)\n",
    "\n",
    "    high = len(nums) - 1\n",
    "    low = 0\n",
    "\n",
    "    mid = (high + low)//2\n",
    "\n",
    "    while(low <= high) :\n",
    "\n",
    "        if(target == nums[mid]) :\n",
    "            return mid\n",
    "        elif(target > nums[mid]) :\n",
    "            low = mid + 1\n",
    "        else :\n",
    "            high = mid - 1\n",
    "\n",
    "        mid = (high+low)//2\n",
    "\n",
    "    return low"
   ]
  },
  {
   "cell_type": "code",
   "execution_count": 8,
   "id": "6a880386",
   "metadata": {},
   "outputs": [
    {
     "data": {
      "text/plain": [
       "5"
      ]
     },
     "execution_count": 8,
     "metadata": {},
     "output_type": "execute_result"
    }
   ],
   "source": [
    "nums = [1,2,3,4,5,6,7]\n",
    "target = 6\n",
    "\n",
    "searchInsert(nums, target)"
   ]
  },
  {
   "cell_type": "code",
   "execution_count": null,
   "id": "cd5c7c7e",
   "metadata": {},
   "outputs": [],
   "source": []
  }
 ],
 "metadata": {
  "kernelspec": {
   "display_name": "Python 3 (ipykernel)",
   "language": "python",
   "name": "python3"
  },
  "language_info": {
   "codemirror_mode": {
    "name": "ipython",
    "version": 3
   },
   "file_extension": ".py",
   "mimetype": "text/x-python",
   "name": "python",
   "nbconvert_exporter": "python",
   "pygments_lexer": "ipython3",
   "version": "3.9.6"
  }
 },
 "nbformat": 4,
 "nbformat_minor": 5
}
