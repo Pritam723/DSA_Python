{
 "cells": [
  {
   "cell_type": "markdown",
   "id": "bf5573e7",
   "metadata": {},
   "source": [
    "[Leetcode - 26 : Remove Duplicates from Sorted Array](https://leetcode.com/problems/remove-duplicates-from-sorted-array/)"
   ]
  },
  {
   "cell_type": "code",
   "execution_count": 1,
   "id": "33d7c298",
   "metadata": {},
   "outputs": [],
   "source": [
    "def removeDuplicates(nums):\n",
    "    \"\"\"\n",
    "    :type nums: List[int]\n",
    "    :rtype: int\n",
    "    \"\"\"\n",
    "    currentIndex = 1\n",
    "    lastUnique = 0\n",
    "\n",
    "    length = len(nums)\n",
    "\n",
    "    while(currentIndex < length) :\n",
    "        print(nums[currentIndex])\n",
    "\n",
    "        if(nums[currentIndex] == nums[lastUnique]) :\n",
    "            currentIndex += 1\n",
    "        else :\n",
    "            nums[lastUnique + 1], nums[currentIndex] = nums[currentIndex], nums[lastUnique + 1]\n",
    "            currentIndex += 1\n",
    "            lastUnique += 1\n",
    "    print(nums)\n",
    "    return(lastUnique + 1)"
   ]
  },
  {
   "cell_type": "code",
   "execution_count": 2,
   "id": "f76bd73a",
   "metadata": {},
   "outputs": [
    {
     "name": "stdout",
     "output_type": "stream",
     "text": [
      "1\n",
      "2\n",
      "[1, 2, 1]\n"
     ]
    },
    {
     "data": {
      "text/plain": [
       "2"
      ]
     },
     "execution_count": 2,
     "metadata": {},
     "output_type": "execute_result"
    }
   ],
   "source": [
    "nums = [1,1,2]\n",
    "removeDuplicates(nums)"
   ]
  },
  {
   "cell_type": "code",
   "execution_count": null,
   "id": "1ad936a4",
   "metadata": {},
   "outputs": [],
   "source": []
  }
 ],
 "metadata": {
  "kernelspec": {
   "display_name": "Python 3 (ipykernel)",
   "language": "python",
   "name": "python3"
  },
  "language_info": {
   "codemirror_mode": {
    "name": "ipython",
    "version": 3
   },
   "file_extension": ".py",
   "mimetype": "text/x-python",
   "name": "python",
   "nbconvert_exporter": "python",
   "pygments_lexer": "ipython3",
   "version": "3.10.5"
  }
 },
 "nbformat": 4,
 "nbformat_minor": 5
}
