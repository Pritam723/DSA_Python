{
 "cells": [
  {
   "cell_type": "markdown",
   "id": "008bd644-0c85-4e41-9723-42f158672274",
   "metadata": {},
   "source": [
    "[Leetcode 287. Find the Duplicate Number](https://leetcode.com/problems/find-the-duplicate-number/)"
   ]
  },
  {
   "cell_type": "code",
   "execution_count": 1,
   "id": "7eeacfd3-9acd-48ee-bf8a-f57a65f0e58d",
   "metadata": {},
   "outputs": [],
   "source": [
    "# As per pigeon hole principle there must be a duplicate number.\n",
    "# Now one simple solution solution is to use the formula of n(n+1)/2\n",
    "# See, if the numbers are [1,2,3,4,5,4] then n = 6. So n is 5. So, n(n+1)/2 = 15. But here sum = 19. So the number is sum - 15 = 4. O(n), No extra space.\n",
    "\n",
    "\n",
    "def findDuplicate_Sol1(nums):\n",
    "    \"\"\"\n",
    "    :type nums: List[int]\n",
    "    :rtype: int\n",
    "    \"\"\"\n",
    "    n = len(nums) - 1\n",
    "    sum_of_elements = sum(nums)\n",
    "    sum_of_first_n_integers = (n*(n+1))/2 \n",
    "    return sum_of_elements - sum_of_first_n_integers\n",
    "    \n",
    "    \n",
    "### But problem with this solution is, if the one repeating element repeats multiple times then it does not work. Ex. [2,2,2,2,2]"
   ]
  },
  {
   "cell_type": "code",
   "execution_count": 6,
   "id": "7723e94c-132a-4e99-900b-3f743274d9f6",
   "metadata": {},
   "outputs": [],
   "source": [
    "# So use the Floyd's Cycle detection here.\n",
    "\n",
    "def findDuplicate_Sol2(nums):\n",
    "    \"\"\"\n",
    "    :type nums: List[int]\n",
    "    :rtype: int\n",
    "    \"\"\"\n",
    "    sp = fp = nums[0]\n",
    "    \n",
    "    while(True) :\n",
    "        sp = nums[sp]\n",
    "        fp = nums[nums[fp]]\n",
    "        if(sp == fp) : # So, sp and fp meets here\n",
    "            sp = nums[0]\n",
    "            break\n",
    "    while(sp != fp) :\n",
    "        sp = nums[sp]\n",
    "        fp = nums[fp]\n",
    "        \n",
    "    return sp"
   ]
  },
  {
   "cell_type": "code",
   "execution_count": 7,
   "id": "072294c9-cfdb-4d32-a769-ba1112f3b5ff",
   "metadata": {},
   "outputs": [
    {
     "data": {
      "text/plain": [
       "2"
      ]
     },
     "execution_count": 7,
     "metadata": {},
     "output_type": "execute_result"
    }
   ],
   "source": [
    "nums = [1,3,2,4,2]\n",
    "findDuplicate_Sol2(nums)"
   ]
  },
  {
   "cell_type": "code",
   "execution_count": null,
   "id": "fea13dbc-b313-4d0f-abdf-59211f33e14c",
   "metadata": {},
   "outputs": [],
   "source": []
  }
 ],
 "metadata": {
  "kernelspec": {
   "display_name": "Python 3 (ipykernel)",
   "language": "python",
   "name": "python3"
  },
  "language_info": {
   "codemirror_mode": {
    "name": "ipython",
    "version": 3
   },
   "file_extension": ".py",
   "mimetype": "text/x-python",
   "name": "python",
   "nbconvert_exporter": "python",
   "pygments_lexer": "ipython3",
   "version": "3.9.6"
  }
 },
 "nbformat": 4,
 "nbformat_minor": 5
}
