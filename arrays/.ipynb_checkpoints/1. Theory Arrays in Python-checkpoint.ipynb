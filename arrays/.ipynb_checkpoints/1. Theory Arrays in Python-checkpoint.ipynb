{
 "cells": [
  {
   "cell_type": "code",
   "execution_count": 19,
   "id": "21c523fa",
   "metadata": {},
   "outputs": [
    {
     "data": {
      "text/plain": [
       "1240500771072"
      ]
     },
     "execution_count": 19,
     "metadata": {},
     "output_type": "execute_result"
    }
   ],
   "source": [
    "# Python has dynamic arrays only. They are called Lists.\n",
    "arr = [1,2,3,4,5]\n",
    "id(arr)"
   ]
  },
  {
   "cell_type": "markdown",
   "id": "923dba79",
   "metadata": {},
   "source": [
    "* Arrays are contiguous\n",
    "* Looking at an Array Element by Index = O(1)\n",
    "* Find value in Array = O(n)\n",
    "* Array Traversal = O(n)\n",
    "* Insert an item at given index = O(n)\n",
    "* Delete an item at given index = O(n)"
   ]
  },
  {
   "cell_type": "code",
   "execution_count": 20,
   "id": "ad2843e2",
   "metadata": {},
   "outputs": [
    {
     "name": "stdout",
     "output_type": "stream",
     "text": [
      "1240409663792\n",
      "1240409663824\n",
      "1240409663856\n",
      "1240409663888\n",
      "1240409663920\n"
     ]
    }
   ],
   "source": [
    "for index,value in enumerate(arr) : \n",
    "    print(id(arr[index]))"
   ]
  },
  {
   "cell_type": "markdown",
   "id": "f80e0be6",
   "metadata": {},
   "source": [
    "###### arr[3] takes only O(1) because it is same as *(arr + 3 * sizeof(int)) in C"
   ]
  },
  {
   "cell_type": "code",
   "execution_count": 23,
   "id": "ffe11896",
   "metadata": {},
   "outputs": [
    {
     "data": {
      "text/plain": [
       "[1, 20, 2, 3, 4, 5]"
      ]
     },
     "execution_count": 23,
     "metadata": {},
     "output_type": "execute_result"
    }
   ],
   "source": [
    "# Insert/Delete an item at given index. It takes O(n) because after insertion/deletion rest of the items have to be shifted.\n",
    "\n",
    "arr.insert(1,20)\n",
    "\n",
    "arr"
   ]
  },
  {
   "cell_type": "markdown",
   "id": "27bd04bd",
   "metadata": {},
   "source": [
    "###### Python has dynamic arrays only. They are called Lists. Initially say Capacity of list = 10. Now, if contiguous memory location is exhausted while inserting in Dynamic array/list, a new chunk of memory of capacity =  previous capacity + 2 * previous capacity = 30 will be alloted. Previous items will be copied here. And then the new item will be inserted."
   ]
  }
 ],
 "metadata": {
  "kernelspec": {
   "display_name": "Python 3 (ipykernel)",
   "language": "python",
   "name": "python3"
  },
  "language_info": {
   "codemirror_mode": {
    "name": "ipython",
    "version": 3
   },
   "file_extension": ".py",
   "mimetype": "text/x-python",
   "name": "python",
   "nbconvert_exporter": "python",
   "pygments_lexer": "ipython3",
   "version": "3.9.6"
  }
 },
 "nbformat": 4,
 "nbformat_minor": 5
}
