{
 "cells": [
  {
   "cell_type": "markdown",
   "id": "68b7fea9-0689-40b1-a8d4-1d998fa504f1",
   "metadata": {},
   "source": [
    "[Leetcode 75. Sort Colors](https://leetcode.com/problems/sort-colors/)"
   ]
  },
  {
   "cell_type": "markdown",
   "id": "64e46da4-b633-4aec-9e37-b8a46a414816",
   "metadata": {},
   "source": [
    "1. This problem requires the idea of DNF Algorithm.\n",
    "2. It can also be solved by counting number of 0,1 and 2s."
   ]
  },
  {
   "cell_type": "markdown",
   "id": "82789b55-453c-4f10-8942-533a41fc2408",
   "metadata": {},
   "source": [
    "###### Approach 2"
   ]
  },
  {
   "cell_type": "code",
   "execution_count": 15,
   "id": "6fc977fa-166b-4e46-b3bb-93c23bdb0a22",
   "metadata": {},
   "outputs": [],
   "source": [
    "def sortColors(nums):\n",
    "    count_zero = count_one = count_two = 0\n",
    "    for item in nums :\n",
    "        if(item == 0) :\n",
    "            count_zero = count_zero + 1\n",
    "        elif(item == 1) :\n",
    "            count_one = count_one + 1\n",
    "        else :\n",
    "            count_two = count_two + 1\n",
    "    print(count_zero,count_one,count_two)\n",
    "    print(len(nums))\n",
    "    i = 0\n",
    "    while(i < count_zero) :\n",
    "        nums[i] = 0\n",
    "        i = i + 1\n",
    "    print(nums)\n",
    "    while(i < count_zero + count_one) :\n",
    "        nums[i] = 1\n",
    "        i = i + 1    \n",
    "    while(i < count_zero + count_one + count_two) :\n",
    "        nums[i] = 2\n",
    "        i = i + 1\n",
    "    print(nums)"
   ]
  },
  {
   "cell_type": "code",
   "execution_count": 16,
   "id": "19612d7f-eff0-4367-ba52-a24f3fce2e18",
   "metadata": {},
   "outputs": [
    {
     "name": "stdout",
     "output_type": "stream",
     "text": [
      "8 6 7\n",
      "21\n",
      "[0, 0, 0, 0, 0, 0, 0, 0, 1, 0, 1, 2, 2, 0, 0, 1, 2, 2, 1, 0, 2]\n",
      "[0, 0, 0, 0, 0, 0, 0, 0, 1, 1, 1, 1, 1, 1, 2, 2, 2, 2, 2, 2, 2]\n",
      "[0, 0, 0, 0, 0, 0, 0, 0, 1, 1, 1, 1, 1, 1, 2, 2, 2, 2, 2, 2, 2]\n"
     ]
    }
   ],
   "source": [
    "nums = [0,0,1,0,2,2,1,0,1,0,1,2,2,0,0,1,2,2,1,0,2]\n",
    "sortColors(nums)\n",
    "print(nums)"
   ]
  },
  {
   "cell_type": "markdown",
   "id": "55b7f511-1e1c-40b7-8118-a5252ab13ea1",
   "metadata": {},
   "source": [
    "###### But this is a 2-pass algorithm.\n",
    "###### Follow up: Could you come up with a one-pass algorithm using only constant extra space?"
   ]
  },
  {
   "cell_type": "markdown",
   "id": "22bca6f5-26e6-4e81-a1cc-35d8c646dd25",
   "metadata": {},
   "source": [
    "###### DNF is a one-pass algorithm."
   ]
  },
  {
   "cell_type": "code",
   "execution_count": null,
   "id": "1c615aa7-89e5-459a-80f6-0adb0b4d0cee",
   "metadata": {},
   "outputs": [],
   "source": []
  }
 ],
 "metadata": {
  "kernelspec": {
   "display_name": "Python 3 (ipykernel)",
   "language": "python",
   "name": "python3"
  },
  "language_info": {
   "codemirror_mode": {
    "name": "ipython",
    "version": 3
   },
   "file_extension": ".py",
   "mimetype": "text/x-python",
   "name": "python",
   "nbconvert_exporter": "python",
   "pygments_lexer": "ipython3",
   "version": "3.9.6"
  }
 },
 "nbformat": 4,
 "nbformat_minor": 5
}
