{
 "cells": [
  {
   "cell_type": "markdown",
   "id": "dcbaf30c",
   "metadata": {},
   "source": [
    "[Leetcode -27 Remove Element](https://leetcode.com/problems/remove-element/)"
   ]
  },
  {
   "cell_type": "code",
   "execution_count": 29,
   "id": "06679f69",
   "metadata": {},
   "outputs": [],
   "source": [
    "def swapArrayElements(nums, index1, index2) :\n",
    "    nums[index1] , nums[index2] = nums[index2] , nums[index1]\n",
    "    return nums\n",
    "\n",
    "def removeElement(nums, val):\n",
    "    \"\"\"\n",
    "    :type nums: List[int]\n",
    "    :type val: int\n",
    "    :rtype: int\n",
    "    \"\"\"\n",
    "    \n",
    "    \n",
    "    length = len(nums)\n",
    "    \n",
    "    currentIndex = 0\n",
    "    # last index signifies that, all elements after this are equal to value to be removed.\n",
    "    lastIndex = length - 1\n",
    "    \n",
    "    while(currentIndex < lastIndex) :\n",
    "#         print(currentIndex)\n",
    "        \n",
    "        if(nums[currentIndex] != val) :\n",
    "            currentIndex += 1\n",
    "        else :\n",
    "#             nums = swapArrayElements(nums,currentIndex,lastIndex)\n",
    "            nums[currentIndex] , nums[lastIndex] = nums[lastIndex] , nums[currentIndex]\n",
    "            lastIndex = lastIndex - 1\n",
    "            # We should not increment currentIndex here. Coz we can have value to be removed at last too.\n",
    "    \n",
    "    return currentIndex+1 if currentIndex != 0 else currentIndex"
   ]
  },
  {
   "cell_type": "code",
   "execution_count": 31,
   "id": "5d2966dc",
   "metadata": {},
   "outputs": [
    {
     "name": "stdout",
     "output_type": "stream",
     "text": [
      "0\n"
     ]
    }
   ],
   "source": [
    "nums = [30,30,30]\n",
    "val = 30\n",
    "\n",
    "print(removeElement(nums, val))"
   ]
  },
  {
   "cell_type": "code",
   "execution_count": null,
   "id": "8a2ae64c",
   "metadata": {},
   "outputs": [],
   "source": [
    "# Edge cases\n",
    "\n",
    "# x = [30,30,30] \n",
    "# Not in loop coz we are doing lastIndex = lastIndex - 1\n"
   ]
  }
 ],
 "metadata": {
  "kernelspec": {
   "display_name": "Python 3 (ipykernel)",
   "language": "python",
   "name": "python3"
  },
  "language_info": {
   "codemirror_mode": {
    "name": "ipython",
    "version": 3
   },
   "file_extension": ".py",
   "mimetype": "text/x-python",
   "name": "python",
   "nbconvert_exporter": "python",
   "pygments_lexer": "ipython3",
   "version": "3.10.5"
  }
 },
 "nbformat": 4,
 "nbformat_minor": 5
}
