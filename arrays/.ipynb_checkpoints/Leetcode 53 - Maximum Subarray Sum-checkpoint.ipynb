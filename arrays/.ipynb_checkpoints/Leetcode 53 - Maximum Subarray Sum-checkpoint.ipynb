{
 "cells": [
  {
   "cell_type": "markdown",
   "id": "f99d53d8",
   "metadata": {},
   "source": [
    "[Maximum Subarray](https://leetcode.com/problems/maximum-subarray/)"
   ]
  },
  {
   "cell_type": "code",
   "execution_count": 26,
   "id": "a3c6c1fe",
   "metadata": {},
   "outputs": [],
   "source": [
    "# import sys\n",
    "\n",
    "def max_sum_subarray(arr) :\n",
    "    \n",
    "    length = len(arr)\n",
    "    \n",
    "    # Maximum ending here\n",
    "    meh = arr[0] \n",
    "    # Maximum so far\n",
    "#     msf = -sys.maxsize - 1 # Don't initiate like this, will fail for [-1,-2]. \n",
    "    # Because we are checking from index 1 actually.\n",
    "    msf = arr[0]\n",
    "    \n",
    "    index = 1  # Don't initiate with 0. Because initially we will basically then do meh + arr[0] i.e. 2*arr[0] which is wrong.\n",
    "    fmeh = 0\n",
    "    fmsf = 0\n",
    "    lmsf = 0\n",
    "    \n",
    "    while(index < length) :\n",
    "                \n",
    "        meh = meh + arr[index]\n",
    "        \n",
    "        if(arr[index] > meh) :\n",
    "            meh = arr[index]\n",
    "            fmeh = index\n",
    "            \n",
    "        if(meh > msf) :\n",
    "            msf = meh\n",
    "            fmsf = fmeh\n",
    "            lmsf = index\n",
    "        index = index + 1\n",
    "        \n",
    "    print(f\"First index of MSSA is {fmsf} and last index is {lmsf}\")\n",
    "    \n",
    "    return sum(nums[fmsf : lmsf + 1])\n",
    "#     return msf"
   ]
  },
  {
   "cell_type": "code",
   "execution_count": 27,
   "id": "01945820",
   "metadata": {},
   "outputs": [
    {
     "name": "stdout",
     "output_type": "stream",
     "text": [
      "First index of MSSA is 0 and last index is 0\n"
     ]
    },
    {
     "data": {
      "text/plain": [
       "-1"
      ]
     },
     "execution_count": 27,
     "metadata": {},
     "output_type": "execute_result"
    }
   ],
   "source": [
    "# nums = [-2,1,-3,4,-1,2,1,-5,4]\n",
    "# nums = [31,-41,59,26,-53,58,97,-93,-23,84]\n",
    "nums = [-1,-2]\n",
    "max_sum_subarray(nums)"
   ]
  },
  {
   "cell_type": "code",
   "execution_count": null,
   "id": "a3540759",
   "metadata": {},
   "outputs": [],
   "source": []
  }
 ],
 "metadata": {
  "kernelspec": {
   "display_name": "Python 3 (ipykernel)",
   "language": "python",
   "name": "python3"
  },
  "language_info": {
   "codemirror_mode": {
    "name": "ipython",
    "version": 3
   },
   "file_extension": ".py",
   "mimetype": "text/x-python",
   "name": "python",
   "nbconvert_exporter": "python",
   "pygments_lexer": "ipython3",
   "version": "3.9.6"
  }
 },
 "nbformat": 4,
 "nbformat_minor": 5
}
