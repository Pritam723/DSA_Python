{
 "cells": [
  {
   "cell_type": "markdown",
   "id": "2f867cf2",
   "metadata": {},
   "source": [
    "[Leetcode - 1 : Two Sum](https://leetcode.com/problems/two-sum/)"
   ]
  },
  {
   "cell_type": "code",
   "execution_count": 17,
   "id": "5fb4d4cd",
   "metadata": {},
   "outputs": [],
   "source": [
    "# Solution 1\n",
    "\n",
    "# def twoSum(nums, target) :\n",
    "#     for i in range(length) :\n",
    "#         for j in range(i + 1 , length) :\n",
    "#             if(nums[i] + nums[j] == target) :\n",
    "#                 return([i,j])\n",
    "\n",
    "# Solution 2 : T(n) = O(n), S(n) = O(n)\n",
    "def twoSum(nums, target) :\n",
    "    \n",
    "    referenceMap = {}\n",
    "    length_of_array = len(nums)\n",
    "    \n",
    "    for index in range(length_of_array) :\n",
    "        \n",
    "        searchKey = target - nums[index]\n",
    "        \n",
    "        if(searchKey not in referenceMap) :\n",
    "            referenceMap[nums[index]] = index\n",
    "        else :\n",
    "            return [referenceMap[searchKey], index]\n",
    "    \n"
   ]
  },
  {
   "cell_type": "code",
   "execution_count": 18,
   "id": "54fdf092",
   "metadata": {},
   "outputs": [
    {
     "data": {
      "text/plain": [
       "[0, 2]"
      ]
     },
     "execution_count": 18,
     "metadata": {},
     "output_type": "execute_result"
    }
   ],
   "source": [
    "nums = [4,2,3,1]\n",
    "target = 7\n",
    "\n",
    "twoSum(nums, target)"
   ]
  },
  {
   "cell_type": "code",
   "execution_count": null,
   "id": "0a8d68c6",
   "metadata": {},
   "outputs": [],
   "source": []
  }
 ],
 "metadata": {
  "kernelspec": {
   "display_name": "Python 3 (ipykernel)",
   "language": "python",
   "name": "python3"
  },
  "language_info": {
   "codemirror_mode": {
    "name": "ipython",
    "version": 3
   },
   "file_extension": ".py",
   "mimetype": "text/x-python",
   "name": "python",
   "nbconvert_exporter": "python",
   "pygments_lexer": "ipython3",
   "version": "3.10.5"
  }
 },
 "nbformat": 4,
 "nbformat_minor": 5
}
