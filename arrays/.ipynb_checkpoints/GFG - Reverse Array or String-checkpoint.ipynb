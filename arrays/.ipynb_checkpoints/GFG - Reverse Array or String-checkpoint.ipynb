{
 "cells": [
  {
   "cell_type": "markdown",
   "id": "7fffd589",
   "metadata": {},
   "source": [
    "[Reverse array or String](https://www.geeksforgeeks.org/write-a-program-to-reverse-an-array-or-string/)"
   ]
  },
  {
   "cell_type": "code",
   "execution_count": 22,
   "id": "8f202e0d",
   "metadata": {},
   "outputs": [],
   "source": [
    "def reverseWord(s):\n",
    "    \n",
    "    param_type = type(s)\n",
    "    if(param_type == str) :\n",
    "        s = list(s)\n",
    "    \n",
    "    forwardIndex = 0\n",
    "    reverseIndex = len(s) - 1\n",
    "    \n",
    "    while(forwardIndex < reverseIndex) :\n",
    "        print(forwardIndex, reverseIndex)\n",
    "        \n",
    "        s[forwardIndex], s[reverseIndex] = s[reverseIndex], s[forwardIndex]\n",
    "        \n",
    "        \n",
    "        forwardIndex = forwardIndex + 1\n",
    "        reverseIndex = reverseIndex - 1\n",
    "    \n",
    "    return ''.join(s) if param_type == str else s"
   ]
  },
  {
   "cell_type": "code",
   "execution_count": 24,
   "id": "4c723aa9",
   "metadata": {},
   "outputs": [
    {
     "name": "stdout",
     "output_type": "stream",
     "text": [
      "0 23\n",
      "1 22\n",
      "2 21\n",
      "3 20\n",
      "4 19\n",
      "5 18\n",
      "6 17\n",
      "7 16\n",
      "8 15\n",
      "9 14\n",
      "10 13\n",
      "11 12\n",
      "ZBBJQRRDQOKXSPFIXZRMGFPA\n"
     ]
    }
   ],
   "source": [
    "s = \"APFGMRZXIFPSXKOQDRRQJBBZ\"\n",
    "print(reverseWord(s))\n",
    "\n"
   ]
  },
  {
   "cell_type": "code",
   "execution_count": 17,
   "id": "f556f8a3",
   "metadata": {},
   "outputs": [
    {
     "data": {
      "text/plain": [
       "'abxd'"
      ]
     },
     "execution_count": 17,
     "metadata": {},
     "output_type": "execute_result"
    }
   ],
   "source": [
    "s = \"abcd\"\n",
    "swap1 = 'x'\n",
    "index = 2\n",
    "\n",
    "s = s[:index] + swap1 + s[index + 1:]\n",
    "s"
   ]
  },
  {
   "cell_type": "code",
   "execution_count": 19,
   "id": "7cacd726",
   "metadata": {},
   "outputs": [
    {
     "data": {
      "text/plain": [
       "'Hi'"
      ]
     },
     "execution_count": 19,
     "metadata": {},
     "output_type": "execute_result"
    }
   ],
   "source": [
    "x = ['H', 'i']\n",
    "''.join(x)"
   ]
  },
  {
   "cell_type": "code",
   "execution_count": 14,
   "id": "8db089d5",
   "metadata": {},
   "outputs": [
    {
     "data": {
      "text/plain": [
       "True"
      ]
     },
     "execution_count": 14,
     "metadata": {},
     "output_type": "execute_result"
    }
   ],
   "source": []
  },
  {
   "cell_type": "code",
   "execution_count": null,
   "id": "b3ae1392",
   "metadata": {},
   "outputs": [],
   "source": []
  }
 ],
 "metadata": {
  "kernelspec": {
   "display_name": "Python 3 (ipykernel)",
   "language": "python",
   "name": "python3"
  },
  "language_info": {
   "codemirror_mode": {
    "name": "ipython",
    "version": 3
   },
   "file_extension": ".py",
   "mimetype": "text/x-python",
   "name": "python",
   "nbconvert_exporter": "python",
   "pygments_lexer": "ipython3",
   "version": "3.9.6"
  }
 },
 "nbformat": 4,
 "nbformat_minor": 5
}
