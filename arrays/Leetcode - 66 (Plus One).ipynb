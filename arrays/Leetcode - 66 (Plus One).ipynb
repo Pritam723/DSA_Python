{
 "cells": [
  {
   "cell_type": "markdown",
   "id": "22134633",
   "metadata": {},
   "source": [
    "[Leetcode - 66 (Plus One)](https://leetcode.com/problems/plus-one/)"
   ]
  },
  {
   "cell_type": "code",
   "execution_count": 8,
   "id": "f1538ee0",
   "metadata": {},
   "outputs": [],
   "source": [
    "def plusOne(digits):\n",
    "    \"\"\"\n",
    "    :type digits: List[int]\n",
    "    :rtype: List[int]\n",
    "    \"\"\"\n",
    "    lastIndex = len(digits) - 1\n",
    "    \n",
    "    to_add = carry = 1  # Since, to_add is also 1, so no need to take different variable. This is fine. because carry will be 0 or 1.\n",
    "    print(carry)\n",
    "    while(carry != 0 and lastIndex >= 0) :\n",
    "        print(lastIndex)\n",
    "        summ_tot = digits[lastIndex] + 1\n",
    "        carry, digits[lastIndex] = divmod(summ_tot, 10)\n",
    "        \n",
    "        print(carry, digits)\n",
    "        \n",
    "        lastIndex = lastIndex - 1\n",
    "        \n",
    "    if(carry != 0) : # Will be executed when lastIndex < 0, but carry is still 1.\n",
    "        digits = [1] + digits\n",
    "        print(type(digits))\n",
    "    \n",
    "    return digits"
   ]
  },
  {
   "cell_type": "code",
   "execution_count": 9,
   "id": "779d2ca5",
   "metadata": {},
   "outputs": [
    {
     "name": "stdout",
     "output_type": "stream",
     "text": [
      "1\n",
      "2\n",
      "0 [1, 2, 4]\n",
      "[1, 2, 4]\n"
     ]
    }
   ],
   "source": [
    "digits = [1,2,3]\n",
    "print(plusOne(digits))"
   ]
  },
  {
   "cell_type": "code",
   "execution_count": null,
   "id": "8ddcdc44",
   "metadata": {},
   "outputs": [],
   "source": []
  }
 ],
 "metadata": {
  "kernelspec": {
   "display_name": "Python 3 (ipykernel)",
   "language": "python",
   "name": "python3"
  },
  "language_info": {
   "codemirror_mode": {
    "name": "ipython",
    "version": 3
   },
   "file_extension": ".py",
   "mimetype": "text/x-python",
   "name": "python",
   "nbconvert_exporter": "python",
   "pygments_lexer": "ipython3",
   "version": "3.9.6"
  }
 },
 "nbformat": 4,
 "nbformat_minor": 5
}
